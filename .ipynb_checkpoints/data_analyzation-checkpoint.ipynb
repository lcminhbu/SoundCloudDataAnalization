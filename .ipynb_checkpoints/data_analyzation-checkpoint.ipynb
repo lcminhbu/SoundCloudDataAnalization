{
 "cells": [
  {
   "cell_type": "code",
   "execution_count": 1,
   "metadata": {
    "id": "lWaOBy_ZpG3l"
   },
   "outputs": [],
   "source": [
    "import matplotlib.pyplot as plt\n",
    "import seaborn as sns\n",
    "import pandas as pd\n",
    "import numpy as np"
   ]
  },
  {
   "cell_type": "markdown",
   "metadata": {
    "id": "E-x_QoBRpTjZ"
   },
   "source": [
    "Đọc dữ liệu playlists,tracks,users lần lượt vào playlists_df, tracks_df, users_df"
   ]
  },
  {
   "cell_type": "code",
   "execution_count": 2,
   "metadata": {
    "colab": {
     "background_save": true
    },
    "id": "_Aaa9JgWparl"
   },
   "outputs": [],
   "source": [
    "playlists_df = pd.read_csv('data/playlist.csv')\n",
    "tracks_df = pd.read_csv('data/track.csv')\n",
    "users_df = pd.read_csv('data/user.csv')"
   ]
  },
  {
   "cell_type": "markdown",
   "metadata": {
    "id": "EbsvDaZlmn8q"
   },
   "source": [
    "# Tìm hiểu dữ liệu"
   ]
  },
  {
   "cell_type": "markdown",
   "metadata": {
    "id": "uVHhXXOZp_jp"
   },
   "source": [
    "### Xem các mẫu dũ liệu của từng dataframe"
   ]
  },
  {
   "cell_type": "code",
   "execution_count": 3,
   "metadata": {
    "colab": {
     "base_uri": "https://localhost:8080/",
     "height": 371
    },
    "id": "wMPnS5pNp9Uo",
    "outputId": "bafa8056-4f3e-4a72-e07c-02c24f4aae97"
   },
   "outputs": [
    {
     "data": {
      "text/html": [
       "<div>\n",
       "<style scoped>\n",
       "    .dataframe tbody tr th:only-of-type {\n",
       "        vertical-align: middle;\n",
       "    }\n",
       "\n",
       "    .dataframe tbody tr th {\n",
       "        vertical-align: top;\n",
       "    }\n",
       "\n",
       "    .dataframe thead th {\n",
       "        text-align: right;\n",
       "    }\n",
       "</style>\n",
       "<table border=\"1\" class=\"dataframe\">\n",
       "  <thead>\n",
       "    <tr style=\"text-align: right;\">\n",
       "      <th></th>\n",
       "      <th>id</th>\n",
       "      <th>title</th>\n",
       "      <th>genre</th>\n",
       "      <th>description</th>\n",
       "      <th>url</th>\n",
       "      <th>user_id</th>\n",
       "      <th>username</th>\n",
       "      <th>trackIds</th>\n",
       "      <th>track_count</th>\n",
       "      <th>likes_count</th>\n",
       "      <th>reposts_count</th>\n",
       "    </tr>\n",
       "  </thead>\n",
       "  <tbody>\n",
       "    <tr>\n",
       "      <th>494</th>\n",
       "      <td>1267268020</td>\n",
       "      <td>lofi</td>\n",
       "      <td>Easy Listening</td>\n",
       "      <td>NaN</td>\n",
       "      <td>https://soundcloud.com/user-410784941/sets/lofi</td>\n",
       "      <td>992923201</td>\n",
       "      <td>i like lofi</td>\n",
       "      <td>1031342809 1058570716 1058537584 1056730789 10...</td>\n",
       "      <td>431</td>\n",
       "      <td>1</td>\n",
       "      <td>0</td>\n",
       "    </tr>\n",
       "    <tr>\n",
       "      <th>166</th>\n",
       "      <td>392218130</td>\n",
       "      <td>Lo-fi</td>\n",
       "      <td>Electronic</td>\n",
       "      <td>NaN</td>\n",
       "      <td>https://soundcloud.com/leonvonkrosigk-43555790...</td>\n",
       "      <td>200447003</td>\n",
       "      <td>Leon von Krosigk</td>\n",
       "      <td>285393781 284177223 285985556 289864920 290233...</td>\n",
       "      <td>257</td>\n",
       "      <td>3</td>\n",
       "      <td>0</td>\n",
       "    </tr>\n",
       "    <tr>\n",
       "      <th>854</th>\n",
       "      <td>556148826</td>\n",
       "      <td>Lo-Fi</td>\n",
       "      <td>NaN</td>\n",
       "      <td>NaN</td>\n",
       "      <td>https://soundcloud.com/viral-bhalla/sets/lo-fi</td>\n",
       "      <td>95071861</td>\n",
       "      <td>viral bhalla</td>\n",
       "      <td>192421330 397252119 313286704 373363412 283100...</td>\n",
       "      <td>97</td>\n",
       "      <td>0</td>\n",
       "      <td>0</td>\n",
       "    </tr>\n",
       "    <tr>\n",
       "      <th>149</th>\n",
       "      <td>283809101</td>\n",
       "      <td>lo-fi.</td>\n",
       "      <td>Ambient</td>\n",
       "      <td>NaN</td>\n",
       "      <td>https://soundcloud.com/fizzlinglemonsoda/sets/...</td>\n",
       "      <td>32423001</td>\n",
       "      <td>madisontheflowerchild</td>\n",
       "      <td>340962411 294804762 168756763 221388264 203951...</td>\n",
       "      <td>222</td>\n",
       "      <td>11</td>\n",
       "      <td>4</td>\n",
       "    </tr>\n",
       "    <tr>\n",
       "      <th>384</th>\n",
       "      <td>280907534</td>\n",
       "      <td>Lo-Fi</td>\n",
       "      <td>NaN</td>\n",
       "      <td>NaN</td>\n",
       "      <td>https://soundcloud.com/qrew/sets/lo-fi</td>\n",
       "      <td>139307701</td>\n",
       "      <td>Qrew</td>\n",
       "      <td>290861079 288028695 293902568 295182335 182404...</td>\n",
       "      <td>143</td>\n",
       "      <td>3</td>\n",
       "      <td>0</td>\n",
       "    </tr>\n",
       "  </tbody>\n",
       "</table>\n",
       "</div>"
      ],
      "text/plain": [
       "             id   title           genre description  \\\n",
       "494  1267268020    lofi  Easy Listening         NaN   \n",
       "166   392218130   Lo-fi      Electronic         NaN   \n",
       "854   556148826   Lo-Fi             NaN         NaN   \n",
       "149   283809101  lo-fi.         Ambient         NaN   \n",
       "384   280907534   Lo-Fi             NaN         NaN   \n",
       "\n",
       "                                                   url    user_id  \\\n",
       "494    https://soundcloud.com/user-410784941/sets/lofi  992923201   \n",
       "166  https://soundcloud.com/leonvonkrosigk-43555790...  200447003   \n",
       "854     https://soundcloud.com/viral-bhalla/sets/lo-fi   95071861   \n",
       "149  https://soundcloud.com/fizzlinglemonsoda/sets/...   32423001   \n",
       "384             https://soundcloud.com/qrew/sets/lo-fi  139307701   \n",
       "\n",
       "                  username                                           trackIds  \\\n",
       "494            i like lofi  1031342809 1058570716 1058537584 1056730789 10...   \n",
       "166       Leon von Krosigk  285393781 284177223 285985556 289864920 290233...   \n",
       "854           viral bhalla  192421330 397252119 313286704 373363412 283100...   \n",
       "149  madisontheflowerchild  340962411 294804762 168756763 221388264 203951...   \n",
       "384                   Qrew  290861079 288028695 293902568 295182335 182404...   \n",
       "\n",
       "     track_count  likes_count  reposts_count  \n",
       "494          431            1              0  \n",
       "166          257            3              0  \n",
       "854           97            0              0  \n",
       "149          222           11              4  \n",
       "384          143            3              0  "
      ]
     },
     "execution_count": 3,
     "metadata": {},
     "output_type": "execute_result"
    }
   ],
   "source": [
    "playlists_df.sample(5)"
   ]
  },
  {
   "cell_type": "code",
   "execution_count": 4,
   "metadata": {
    "colab": {
     "base_uri": "https://localhost:8080/",
     "height": 343
    },
    "id": "7DENXLhjpi4R",
    "outputId": "d6fc420c-57f1-4d08-fad5-9006022baac8"
   },
   "outputs": [
    {
     "data": {
      "text/html": [
       "<div>\n",
       "<style scoped>\n",
       "    .dataframe tbody tr th:only-of-type {\n",
       "        vertical-align: middle;\n",
       "    }\n",
       "\n",
       "    .dataframe tbody tr th {\n",
       "        vertical-align: top;\n",
       "    }\n",
       "\n",
       "    .dataframe thead th {\n",
       "        text-align: right;\n",
       "    }\n",
       "</style>\n",
       "<table border=\"1\" class=\"dataframe\">\n",
       "  <thead>\n",
       "    <tr style=\"text-align: right;\">\n",
       "      <th></th>\n",
       "      <th>id</th>\n",
       "      <th>username</th>\n",
       "      <th>city</th>\n",
       "      <th>country</th>\n",
       "      <th>description</th>\n",
       "      <th>followers_count</th>\n",
       "      <th>followings_count</th>\n",
       "      <th>likes_count</th>\n",
       "      <th>playlist_likes_count</th>\n",
       "      <th>url</th>\n",
       "      <th>playlist_count</th>\n",
       "      <th>track_count</th>\n",
       "    </tr>\n",
       "  </thead>\n",
       "  <tbody>\n",
       "    <tr>\n",
       "      <th>854</th>\n",
       "      <td>95071861</td>\n",
       "      <td>viral bhalla</td>\n",
       "      <td>Bengaluru</td>\n",
       "      <td>IN</td>\n",
       "      <td>NaN</td>\n",
       "      <td>15</td>\n",
       "      <td>108</td>\n",
       "      <td>460</td>\n",
       "      <td>28</td>\n",
       "      <td>https://soundcloud.com/viral-bhalla</td>\n",
       "      <td>49</td>\n",
       "      <td>3</td>\n",
       "    </tr>\n",
       "    <tr>\n",
       "      <th>7</th>\n",
       "      <td>603451386</td>\n",
       "      <td>Hustle: Rap &amp; Hip-Hop</td>\n",
       "      <td>NaN</td>\n",
       "      <td>NaN</td>\n",
       "      <td>For a limited time, all hip-hop all the time. ...</td>\n",
       "      <td>72221</td>\n",
       "      <td>111</td>\n",
       "      <td>307</td>\n",
       "      <td>14</td>\n",
       "      <td>https://soundcloud.com/soundcloud-hustle</td>\n",
       "      <td>59</td>\n",
       "      <td>0</td>\n",
       "    </tr>\n",
       "    <tr>\n",
       "      <th>763</th>\n",
       "      <td>169184440</td>\n",
       "      <td>SÜNGÖD</td>\n",
       "      <td>New Haven, CT</td>\n",
       "      <td>US</td>\n",
       "      <td>MGMT: sungodspot@gmail.com\\nBeauty is in the e...</td>\n",
       "      <td>80</td>\n",
       "      <td>24</td>\n",
       "      <td>510</td>\n",
       "      <td>398</td>\n",
       "      <td>https://soundcloud.com/underthesungod</td>\n",
       "      <td>266</td>\n",
       "      <td>0</td>\n",
       "    </tr>\n",
       "    <tr>\n",
       "      <th>175</th>\n",
       "      <td>74658661</td>\n",
       "      <td>zero two...</td>\n",
       "      <td>NaN</td>\n",
       "      <td>NaN</td>\n",
       "      <td>I like anime &amp; lofi</td>\n",
       "      <td>4</td>\n",
       "      <td>23</td>\n",
       "      <td>95</td>\n",
       "      <td>5</td>\n",
       "      <td>https://soundcloud.com/zer0tw0</td>\n",
       "      <td>5</td>\n",
       "      <td>0</td>\n",
       "    </tr>\n",
       "    <tr>\n",
       "      <th>743</th>\n",
       "      <td>277240323</td>\n",
       "      <td>rajat hamid</td>\n",
       "      <td>NaN</td>\n",
       "      <td>NaN</td>\n",
       "      <td>NaN</td>\n",
       "      <td>18</td>\n",
       "      <td>249</td>\n",
       "      <td>852</td>\n",
       "      <td>23</td>\n",
       "      <td>https://soundcloud.com/rajat-hamid</td>\n",
       "      <td>1</td>\n",
       "      <td>0</td>\n",
       "    </tr>\n",
       "  </tbody>\n",
       "</table>\n",
       "</div>"
      ],
      "text/plain": [
       "            id               username           city country  \\\n",
       "854   95071861           viral bhalla      Bengaluru      IN   \n",
       "7    603451386  Hustle: Rap & Hip-Hop            NaN     NaN   \n",
       "763  169184440                 SÜNGÖD  New Haven, CT      US   \n",
       "175   74658661            zero two...            NaN     NaN   \n",
       "743  277240323            rajat hamid            NaN     NaN   \n",
       "\n",
       "                                           description  followers_count  \\\n",
       "854                                                NaN               15   \n",
       "7    For a limited time, all hip-hop all the time. ...            72221   \n",
       "763  MGMT: sungodspot@gmail.com\\nBeauty is in the e...               80   \n",
       "175                                I like anime & lofi                4   \n",
       "743                                                NaN               18   \n",
       "\n",
       "     followings_count  likes_count  playlist_likes_count  \\\n",
       "854               108          460                    28   \n",
       "7                 111          307                    14   \n",
       "763                24          510                   398   \n",
       "175                23           95                     5   \n",
       "743               249          852                    23   \n",
       "\n",
       "                                          url  playlist_count  track_count  \n",
       "854       https://soundcloud.com/viral-bhalla              49            3  \n",
       "7    https://soundcloud.com/soundcloud-hustle              59            0  \n",
       "763     https://soundcloud.com/underthesungod             266            0  \n",
       "175            https://soundcloud.com/zer0tw0               5            0  \n",
       "743        https://soundcloud.com/rajat-hamid               1            0  "
      ]
     },
     "execution_count": 4,
     "metadata": {},
     "output_type": "execute_result"
    }
   ],
   "source": [
    "users_df.sample(5)"
   ]
  },
  {
   "cell_type": "code",
   "execution_count": 5,
   "metadata": {
    "colab": {
     "base_uri": "https://localhost:8080/",
     "height": 377
    },
    "id": "XQBxI88bqDM0",
    "outputId": "db8bdc81-6626-4890-81fe-b1f21d77a9f3"
   },
   "outputs": [
    {
     "data": {
      "text/html": [
       "<div>\n",
       "<style scoped>\n",
       "    .dataframe tbody tr th:only-of-type {\n",
       "        vertical-align: middle;\n",
       "    }\n",
       "\n",
       "    .dataframe tbody tr th {\n",
       "        vertical-align: top;\n",
       "    }\n",
       "\n",
       "    .dataframe thead th {\n",
       "        text-align: right;\n",
       "    }\n",
       "</style>\n",
       "<table border=\"1\" class=\"dataframe\">\n",
       "  <thead>\n",
       "    <tr style=\"text-align: right;\">\n",
       "      <th></th>\n",
       "      <th>playlist</th>\n",
       "      <th>id</th>\n",
       "      <th>title</th>\n",
       "      <th>user_id</th>\n",
       "      <th>artist</th>\n",
       "      <th>description</th>\n",
       "      <th>comment_count</th>\n",
       "      <th>downloadable</th>\n",
       "      <th>download_count</th>\n",
       "      <th>genre</th>\n",
       "      <th>likes_count</th>\n",
       "      <th>url</th>\n",
       "      <th>playback_count</th>\n",
       "      <th>reposts_count</th>\n",
       "    </tr>\n",
       "  </thead>\n",
       "  <tbody>\n",
       "    <tr>\n",
       "      <th>3536</th>\n",
       "      <td>1242033220</td>\n",
       "      <td>985630543</td>\n",
       "      <td>Winter Feeling Compilation// SamuW &amp; Noflik - ...</td>\n",
       "      <td>243424168</td>\n",
       "      <td>SamuW &amp; Noflik</td>\n",
       "      <td>NaN</td>\n",
       "      <td>1.0</td>\n",
       "      <td>False</td>\n",
       "      <td>0.0</td>\n",
       "      <td>Lofi - Hiphop Instrumental - Jazz Hop - ChillHop</td>\n",
       "      <td>109.0</td>\n",
       "      <td>https://soundcloud.com/samuw020/winter-feeling...</td>\n",
       "      <td>60974.0</td>\n",
       "      <td>8</td>\n",
       "    </tr>\n",
       "    <tr>\n",
       "      <th>4216</th>\n",
       "      <td>641549028</td>\n",
       "      <td>333555517</td>\n",
       "      <td>it's ok to be sad</td>\n",
       "      <td>9351494</td>\n",
       "      <td>heizzah</td>\n",
       "      <td>featured in the bootleg boy's mix ＧＯＯＤＢＹＥ http...</td>\n",
       "      <td>150.0</td>\n",
       "      <td>False</td>\n",
       "      <td>205.0</td>\n",
       "      <td>lo-fi</td>\n",
       "      <td>8157.0</td>\n",
       "      <td>https://soundcloud.com/heizzah/its-ok-to-be-sad</td>\n",
       "      <td>536277.0</td>\n",
       "      <td>580</td>\n",
       "    </tr>\n",
       "    <tr>\n",
       "      <th>2322</th>\n",
       "      <td>1322925337</td>\n",
       "      <td>951866101</td>\n",
       "      <td>𝙎𝙖𝙫𝙚 // 𝘿𝙖𝙫𝙞𝙙 𝙎𝙖𝙣𝙮𝙖 // 𝘿𝙖𝙫𝙞𝙙𝙎𝙖𝙣𝙮𝙖𝘽𝙚𝙖𝙩𝙨.𝙘𝙤𝙢</td>\n",
       "      <td>171315858</td>\n",
       "      <td>David Sanya, Mas. Charade</td>\n",
       "      <td>Lyrics\\n\\nSave me, save me\\nFrom myself,\\nI do...</td>\n",
       "      <td>NaN</td>\n",
       "      <td>False</td>\n",
       "      <td>NaN</td>\n",
       "      <td>Triphop</td>\n",
       "      <td>NaN</td>\n",
       "      <td>https://soundcloud.com/david_sanya/save</td>\n",
       "      <td>NaN</td>\n",
       "      <td>0</td>\n",
       "    </tr>\n",
       "    <tr>\n",
       "      <th>2711</th>\n",
       "      <td>1177228216</td>\n",
       "      <td>347400330</td>\n",
       "      <td>Puffin'</td>\n",
       "      <td>117339771</td>\n",
       "      <td>emune</td>\n",
       "      <td>HERE U GO \\nhttps://alwaysprop3r.bandcamp.com/...</td>\n",
       "      <td>88.0</td>\n",
       "      <td>False</td>\n",
       "      <td>0.0</td>\n",
       "      <td>333</td>\n",
       "      <td>4035.0</td>\n",
       "      <td>https://soundcloud.com/emune/puffin</td>\n",
       "      <td>155725.0</td>\n",
       "      <td>571</td>\n",
       "    </tr>\n",
       "    <tr>\n",
       "      <th>4592</th>\n",
       "      <td>449900736</td>\n",
       "      <td>191269969</td>\n",
       "      <td>[Samurai Champloo] - Battlecry</td>\n",
       "      <td>136739152</td>\n",
       "      <td>NaN</td>\n",
       "      <td>NaN</td>\n",
       "      <td>513.0</td>\n",
       "      <td>False</td>\n",
       "      <td>0.0</td>\n",
       "      <td>Anime</td>\n",
       "      <td>37979.0</td>\n",
       "      <td>https://soundcloud.com/best-of-anime-soundtrac...</td>\n",
       "      <td>2388464.0</td>\n",
       "      <td>2049</td>\n",
       "    </tr>\n",
       "  </tbody>\n",
       "</table>\n",
       "</div>"
      ],
      "text/plain": [
       "        playlist         id  \\\n",
       "3536  1242033220  985630543   \n",
       "4216   641549028  333555517   \n",
       "2322  1322925337  951866101   \n",
       "2711  1177228216  347400330   \n",
       "4592   449900736  191269969   \n",
       "\n",
       "                                                  title    user_id  \\\n",
       "3536  Winter Feeling Compilation// SamuW & Noflik - ...  243424168   \n",
       "4216                                  it's ok to be sad    9351494   \n",
       "2322         𝙎𝙖𝙫𝙚 // 𝘿𝙖𝙫𝙞𝙙 𝙎𝙖𝙣𝙮𝙖 // 𝘿𝙖𝙫𝙞𝙙𝙎𝙖𝙣𝙮𝙖𝘽𝙚𝙖𝙩𝙨.𝙘𝙤𝙢  171315858   \n",
       "2711                                            Puffin'  117339771   \n",
       "4592                     [Samurai Champloo] - Battlecry  136739152   \n",
       "\n",
       "                         artist  \\\n",
       "3536             SamuW & Noflik   \n",
       "4216                    heizzah   \n",
       "2322  David Sanya, Mas. Charade   \n",
       "2711                      emune   \n",
       "4592                        NaN   \n",
       "\n",
       "                                            description  comment_count  \\\n",
       "3536                                                NaN            1.0   \n",
       "4216  featured in the bootleg boy's mix ＧＯＯＤＢＹＥ http...          150.0   \n",
       "2322  Lyrics\\n\\nSave me, save me\\nFrom myself,\\nI do...            NaN   \n",
       "2711  HERE U GO \\nhttps://alwaysprop3r.bandcamp.com/...           88.0   \n",
       "4592                                                NaN          513.0   \n",
       "\n",
       "      downloadable  download_count  \\\n",
       "3536         False             0.0   \n",
       "4216         False           205.0   \n",
       "2322         False             NaN   \n",
       "2711         False             0.0   \n",
       "4592         False             0.0   \n",
       "\n",
       "                                                 genre  likes_count  \\\n",
       "3536  Lofi - Hiphop Instrumental - Jazz Hop - ChillHop        109.0   \n",
       "4216                                             lo-fi       8157.0   \n",
       "2322                                           Triphop          NaN   \n",
       "2711                                               333       4035.0   \n",
       "4592                                             Anime      37979.0   \n",
       "\n",
       "                                                    url  playback_count  \\\n",
       "3536  https://soundcloud.com/samuw020/winter-feeling...         60974.0   \n",
       "4216    https://soundcloud.com/heizzah/its-ok-to-be-sad        536277.0   \n",
       "2322            https://soundcloud.com/david_sanya/save             NaN   \n",
       "2711                https://soundcloud.com/emune/puffin        155725.0   \n",
       "4592  https://soundcloud.com/best-of-anime-soundtrac...       2388464.0   \n",
       "\n",
       "      reposts_count  \n",
       "3536              8  \n",
       "4216            580  \n",
       "2322              0  \n",
       "2711            571  \n",
       "4592           2049  "
      ]
     },
     "execution_count": 5,
     "metadata": {},
     "output_type": "execute_result"
    }
   ],
   "source": [
    "tracks_df.sample(5)"
   ]
  },
  {
   "cell_type": "markdown",
   "metadata": {
    "id": "0ezFLhBJqHln"
   },
   "source": [
    "Xem thông tin của từng dataframe"
   ]
  },
  {
   "cell_type": "markdown",
   "metadata": {},
   "source": [
    "### Xem thông tin của từng dataframe"
   ]
  },
  {
   "cell_type": "code",
   "execution_count": null,
   "metadata": {
    "colab": {
     "base_uri": "https://localhost:8080/"
    },
    "id": "2nQKvYtqqGI0",
    "outputId": "f4d99f75-7496-4a5d-bcf4-656b16950d06"
   },
   "outputs": [],
   "source": [
    "playlists_df.info()"
   ]
  },
  {
   "cell_type": "code",
   "execution_count": 7,
   "metadata": {
    "colab": {
     "base_uri": "https://localhost:8080/"
    },
    "id": "ipBk1ch5qJxV",
    "outputId": "befe57ad-8ee4-4a5d-eaba-edafb5906804"
   },
   "outputs": [
    {
     "name": "stdout",
     "output_type": "stream",
     "text": [
      "<class 'pandas.core.frame.DataFrame'>\n",
      "RangeIndex: 1000 entries, 0 to 999\n",
      "Data columns (total 12 columns):\n",
      " #   Column                Non-Null Count  Dtype \n",
      "---  ------                --------------  ----- \n",
      " 0   id                    1000 non-null   int64 \n",
      " 1   username              1000 non-null   object\n",
      " 2   city                  327 non-null    object\n",
      " 3   country               342 non-null    object\n",
      " 4   description           351 non-null    object\n",
      " 5   followers_count       1000 non-null   int64 \n",
      " 6   followings_count      1000 non-null   int64 \n",
      " 7   likes_count           1000 non-null   int64 \n",
      " 8   playlist_likes_count  1000 non-null   int64 \n",
      " 9   url                   1000 non-null   object\n",
      " 10  playlist_count        1000 non-null   int64 \n",
      " 11  track_count           1000 non-null   int64 \n",
      "dtypes: int64(7), object(5)\n",
      "memory usage: 93.9+ KB\n"
     ]
    }
   ],
   "source": [
    "users_df.info()"
   ]
  },
  {
   "cell_type": "code",
   "execution_count": 8,
   "metadata": {
    "colab": {
     "base_uri": "https://localhost:8080/"
    },
    "id": "AtbkHAG4qLZN",
    "outputId": "ae898111-07bd-4456-ac4a-ccfcec2b7d7d"
   },
   "outputs": [
    {
     "name": "stdout",
     "output_type": "stream",
     "text": [
      "<class 'pandas.core.frame.DataFrame'>\n",
      "RangeIndex: 4859 entries, 0 to 4858\n",
      "Data columns (total 14 columns):\n",
      " #   Column          Non-Null Count  Dtype  \n",
      "---  ------          --------------  -----  \n",
      " 0   playlist        4859 non-null   int64  \n",
      " 1   id              4859 non-null   int64  \n",
      " 2   title           4859 non-null   object \n",
      " 3   user_id         4859 non-null   int64  \n",
      " 4   artist          2693 non-null   object \n",
      " 5   description     3596 non-null   object \n",
      " 6   comment_count   4696 non-null   float64\n",
      " 7   downloadable    4859 non-null   bool   \n",
      " 8   download_count  4728 non-null   float64\n",
      " 9   genre           4083 non-null   object \n",
      " 10  likes_count     4728 non-null   float64\n",
      " 11  url             4859 non-null   object \n",
      " 12  playback_count  4728 non-null   float64\n",
      " 13  reposts_count   4859 non-null   int64  \n",
      "dtypes: bool(1), float64(4), int64(4), object(5)\n",
      "memory usage: 498.4+ KB\n"
     ]
    }
   ],
   "source": [
    "tracks_df.info()"
   ]
  },
  {
   "cell_type": "markdown",
   "metadata": {
    "id": "pl6_vCe5qRmx"
   },
   "source": [
    "### Xem mô tả của từng dataframe"
   ]
  },
  {
   "cell_type": "code",
   "execution_count": 9,
   "metadata": {
    "colab": {
     "base_uri": "https://localhost:8080/",
     "height": 297
    },
    "id": "hpH4eFVjqMnt",
    "outputId": "1728deae-2070-40e4-f637-02d355fa7cc5"
   },
   "outputs": [
    {
     "data": {
      "text/html": [
       "<div>\n",
       "<style scoped>\n",
       "    .dataframe tbody tr th:only-of-type {\n",
       "        vertical-align: middle;\n",
       "    }\n",
       "\n",
       "    .dataframe tbody tr th {\n",
       "        vertical-align: top;\n",
       "    }\n",
       "\n",
       "    .dataframe thead th {\n",
       "        text-align: right;\n",
       "    }\n",
       "</style>\n",
       "<table border=\"1\" class=\"dataframe\">\n",
       "  <thead>\n",
       "    <tr style=\"text-align: right;\">\n",
       "      <th></th>\n",
       "      <th>id</th>\n",
       "      <th>user_id</th>\n",
       "      <th>track_count</th>\n",
       "      <th>likes_count</th>\n",
       "      <th>reposts_count</th>\n",
       "    </tr>\n",
       "  </thead>\n",
       "  <tbody>\n",
       "    <tr>\n",
       "      <th>count</th>\n",
       "      <td>1.000000e+03</td>\n",
       "      <td>1.000000e+03</td>\n",
       "      <td>1000.0</td>\n",
       "      <td>1000.0</td>\n",
       "      <td>1000.0</td>\n",
       "    </tr>\n",
       "    <tr>\n",
       "      <th>mean</th>\n",
       "      <td>7.175853e+08</td>\n",
       "      <td>3.027274e+08</td>\n",
       "      <td>182.8</td>\n",
       "      <td>2439.3</td>\n",
       "      <td>150.9</td>\n",
       "    </tr>\n",
       "    <tr>\n",
       "      <th>std</th>\n",
       "      <td>3.512971e+08</td>\n",
       "      <td>2.445918e+08</td>\n",
       "      <td>124.2</td>\n",
       "      <td>19252.9</td>\n",
       "      <td>1225.9</td>\n",
       "    </tr>\n",
       "    <tr>\n",
       "      <th>min</th>\n",
       "      <td>4.286422e+06</td>\n",
       "      <td>5.952800e+04</td>\n",
       "      <td>1.0</td>\n",
       "      <td>0.0</td>\n",
       "      <td>0.0</td>\n",
       "    </tr>\n",
       "    <tr>\n",
       "      <th>25%</th>\n",
       "      <td>3.861310e+08</td>\n",
       "      <td>1.054676e+08</td>\n",
       "      <td>97.0</td>\n",
       "      <td>0.0</td>\n",
       "      <td>0.0</td>\n",
       "    </tr>\n",
       "    <tr>\n",
       "      <th>50%</th>\n",
       "      <td>6.823627e+08</td>\n",
       "      <td>2.476779e+08</td>\n",
       "      <td>135.5</td>\n",
       "      <td>2.0</td>\n",
       "      <td>0.0</td>\n",
       "    </tr>\n",
       "    <tr>\n",
       "      <th>75%</th>\n",
       "      <td>1.017405e+09</td>\n",
       "      <td>4.524720e+08</td>\n",
       "      <td>260.0</td>\n",
       "      <td>6.0</td>\n",
       "      <td>1.0</td>\n",
       "    </tr>\n",
       "    <tr>\n",
       "      <th>max</th>\n",
       "      <td>1.342103e+09</td>\n",
       "      <td>1.042641e+09</td>\n",
       "      <td>500.0</td>\n",
       "      <td>385941.0</td>\n",
       "      <td>23677.0</td>\n",
       "    </tr>\n",
       "  </tbody>\n",
       "</table>\n",
       "</div>"
      ],
      "text/plain": [
       "                 id       user_id  track_count  likes_count  reposts_count\n",
       "count  1.000000e+03  1.000000e+03       1000.0       1000.0         1000.0\n",
       "mean   7.175853e+08  3.027274e+08        182.8       2439.3          150.9\n",
       "std    3.512971e+08  2.445918e+08        124.2      19252.9         1225.9\n",
       "min    4.286422e+06  5.952800e+04          1.0          0.0            0.0\n",
       "25%    3.861310e+08  1.054676e+08         97.0          0.0            0.0\n",
       "50%    6.823627e+08  2.476779e+08        135.5          2.0            0.0\n",
       "75%    1.017405e+09  4.524720e+08        260.0          6.0            1.0\n",
       "max    1.342103e+09  1.042641e+09        500.0     385941.0        23677.0"
      ]
     },
     "execution_count": 9,
     "metadata": {},
     "output_type": "execute_result"
    }
   ],
   "source": [
    "playlists_df.describe().round(1)"
   ]
  },
  {
   "cell_type": "code",
   "execution_count": 10,
   "metadata": {
    "colab": {
     "base_uri": "https://localhost:8080/",
     "height": 297
    },
    "id": "aVffqqVsqS8N",
    "outputId": "ee6a1afe-c4da-49d1-f2ce-c9f52964b279"
   },
   "outputs": [
    {
     "data": {
      "text/html": [
       "<div>\n",
       "<style scoped>\n",
       "    .dataframe tbody tr th:only-of-type {\n",
       "        vertical-align: middle;\n",
       "    }\n",
       "\n",
       "    .dataframe tbody tr th {\n",
       "        vertical-align: top;\n",
       "    }\n",
       "\n",
       "    .dataframe thead th {\n",
       "        text-align: right;\n",
       "    }\n",
       "</style>\n",
       "<table border=\"1\" class=\"dataframe\">\n",
       "  <thead>\n",
       "    <tr style=\"text-align: right;\">\n",
       "      <th></th>\n",
       "      <th>id</th>\n",
       "      <th>followers_count</th>\n",
       "      <th>followings_count</th>\n",
       "      <th>likes_count</th>\n",
       "      <th>playlist_likes_count</th>\n",
       "      <th>playlist_count</th>\n",
       "      <th>track_count</th>\n",
       "    </tr>\n",
       "  </thead>\n",
       "  <tbody>\n",
       "    <tr>\n",
       "      <th>count</th>\n",
       "      <td>1.000000e+03</td>\n",
       "      <td>1000.0</td>\n",
       "      <td>1000.0</td>\n",
       "      <td>1000.0</td>\n",
       "      <td>1000.0</td>\n",
       "      <td>1000.0</td>\n",
       "      <td>1000.0</td>\n",
       "    </tr>\n",
       "    <tr>\n",
       "      <th>mean</th>\n",
       "      <td>3.027274e+08</td>\n",
       "      <td>4162.9</td>\n",
       "      <td>140.8</td>\n",
       "      <td>831.1</td>\n",
       "      <td>29.7</td>\n",
       "      <td>26.0</td>\n",
       "      <td>5.4</td>\n",
       "    </tr>\n",
       "    <tr>\n",
       "      <th>std</th>\n",
       "      <td>2.445918e+08</td>\n",
       "      <td>20292.3</td>\n",
       "      <td>276.7</td>\n",
       "      <td>1471.3</td>\n",
       "      <td>100.3</td>\n",
       "      <td>133.9</td>\n",
       "      <td>49.0</td>\n",
       "    </tr>\n",
       "    <tr>\n",
       "      <th>min</th>\n",
       "      <td>5.952800e+04</td>\n",
       "      <td>0.0</td>\n",
       "      <td>0.0</td>\n",
       "      <td>0.0</td>\n",
       "      <td>0.0</td>\n",
       "      <td>0.0</td>\n",
       "      <td>0.0</td>\n",
       "    </tr>\n",
       "    <tr>\n",
       "      <th>25%</th>\n",
       "      <td>1.054676e+08</td>\n",
       "      <td>4.0</td>\n",
       "      <td>13.0</td>\n",
       "      <td>78.5</td>\n",
       "      <td>2.0</td>\n",
       "      <td>2.0</td>\n",
       "      <td>0.0</td>\n",
       "    </tr>\n",
       "    <tr>\n",
       "      <th>50%</th>\n",
       "      <td>2.476779e+08</td>\n",
       "      <td>12.0</td>\n",
       "      <td>44.0</td>\n",
       "      <td>345.0</td>\n",
       "      <td>8.0</td>\n",
       "      <td>5.0</td>\n",
       "      <td>0.0</td>\n",
       "    </tr>\n",
       "    <tr>\n",
       "      <th>75%</th>\n",
       "      <td>4.524720e+08</td>\n",
       "      <td>48.0</td>\n",
       "      <td>132.2</td>\n",
       "      <td>881.0</td>\n",
       "      <td>19.0</td>\n",
       "      <td>13.0</td>\n",
       "      <td>1.0</td>\n",
       "    </tr>\n",
       "    <tr>\n",
       "      <th>max</th>\n",
       "      <td>1.042641e+09</td>\n",
       "      <td>191356.0</td>\n",
       "      <td>2009.0</td>\n",
       "      <td>14444.0</td>\n",
       "      <td>2054.0</td>\n",
       "      <td>3784.0</td>\n",
       "      <td>1349.0</td>\n",
       "    </tr>\n",
       "  </tbody>\n",
       "</table>\n",
       "</div>"
      ],
      "text/plain": [
       "                 id  followers_count  followings_count  likes_count  \\\n",
       "count  1.000000e+03           1000.0            1000.0       1000.0   \n",
       "mean   3.027274e+08           4162.9             140.8        831.1   \n",
       "std    2.445918e+08          20292.3             276.7       1471.3   \n",
       "min    5.952800e+04              0.0               0.0          0.0   \n",
       "25%    1.054676e+08              4.0              13.0         78.5   \n",
       "50%    2.476779e+08             12.0              44.0        345.0   \n",
       "75%    4.524720e+08             48.0             132.2        881.0   \n",
       "max    1.042641e+09         191356.0            2009.0      14444.0   \n",
       "\n",
       "       playlist_likes_count  playlist_count  track_count  \n",
       "count                1000.0          1000.0       1000.0  \n",
       "mean                   29.7            26.0          5.4  \n",
       "std                   100.3           133.9         49.0  \n",
       "min                     0.0             0.0          0.0  \n",
       "25%                     2.0             2.0          0.0  \n",
       "50%                     8.0             5.0          0.0  \n",
       "75%                    19.0            13.0          1.0  \n",
       "max                  2054.0          3784.0       1349.0  "
      ]
     },
     "execution_count": 10,
     "metadata": {},
     "output_type": "execute_result"
    }
   ],
   "source": [
    "users_df.describe().round(1)"
   ]
  },
  {
   "cell_type": "code",
   "execution_count": 11,
   "metadata": {
    "colab": {
     "base_uri": "https://localhost:8080/",
     "height": 297
    },
    "id": "ESg4QjnJqTz1",
    "outputId": "a58a3989-0fae-44b0-acec-ac863b84b00d"
   },
   "outputs": [
    {
     "data": {
      "text/html": [
       "<div>\n",
       "<style scoped>\n",
       "    .dataframe tbody tr th:only-of-type {\n",
       "        vertical-align: middle;\n",
       "    }\n",
       "\n",
       "    .dataframe tbody tr th {\n",
       "        vertical-align: top;\n",
       "    }\n",
       "\n",
       "    .dataframe thead th {\n",
       "        text-align: right;\n",
       "    }\n",
       "</style>\n",
       "<table border=\"1\" class=\"dataframe\">\n",
       "  <thead>\n",
       "    <tr style=\"text-align: right;\">\n",
       "      <th></th>\n",
       "      <th>playlist</th>\n",
       "      <th>id</th>\n",
       "      <th>user_id</th>\n",
       "      <th>comment_count</th>\n",
       "      <th>download_count</th>\n",
       "      <th>likes_count</th>\n",
       "      <th>playback_count</th>\n",
       "      <th>reposts_count</th>\n",
       "    </tr>\n",
       "  </thead>\n",
       "  <tbody>\n",
       "    <tr>\n",
       "      <th>count</th>\n",
       "      <td>4.859000e+03</td>\n",
       "      <td>4.859000e+03</td>\n",
       "      <td>4.859000e+03</td>\n",
       "      <td>4696.0</td>\n",
       "      <td>4728.0</td>\n",
       "      <td>4728.0</td>\n",
       "      <td>4728.0</td>\n",
       "      <td>4859.0</td>\n",
       "    </tr>\n",
       "    <tr>\n",
       "      <th>mean</th>\n",
       "      <td>7.173071e+08</td>\n",
       "      <td>3.890784e+08</td>\n",
       "      <td>1.407657e+08</td>\n",
       "      <td>719.7</td>\n",
       "      <td>416.6</td>\n",
       "      <td>30738.2</td>\n",
       "      <td>2199013.0</td>\n",
       "      <td>1684.5</td>\n",
       "    </tr>\n",
       "    <tr>\n",
       "      <th>std</th>\n",
       "      <td>3.488066e+08</td>\n",
       "      <td>2.291290e+08</td>\n",
       "      <td>1.593397e+08</td>\n",
       "      <td>3759.6</td>\n",
       "      <td>3166.2</td>\n",
       "      <td>110260.9</td>\n",
       "      <td>8884654.6</td>\n",
       "      <td>5312.3</td>\n",
       "    </tr>\n",
       "    <tr>\n",
       "      <th>min</th>\n",
       "      <td>4.286422e+06</td>\n",
       "      <td>5.449880e+05</td>\n",
       "      <td>3.520000e+02</td>\n",
       "      <td>0.0</td>\n",
       "      <td>0.0</td>\n",
       "      <td>0.0</td>\n",
       "      <td>0.0</td>\n",
       "      <td>0.0</td>\n",
       "    </tr>\n",
       "    <tr>\n",
       "      <th>25%</th>\n",
       "      <td>3.873961e+08</td>\n",
       "      <td>2.589006e+08</td>\n",
       "      <td>2.293982e+07</td>\n",
       "      <td>25.0</td>\n",
       "      <td>0.0</td>\n",
       "      <td>1052.0</td>\n",
       "      <td>62338.8</td>\n",
       "      <td>66.0</td>\n",
       "    </tr>\n",
       "    <tr>\n",
       "      <th>50%</th>\n",
       "      <td>6.854110e+08</td>\n",
       "      <td>3.168234e+08</td>\n",
       "      <td>9.371888e+07</td>\n",
       "      <td>76.0</td>\n",
       "      <td>0.0</td>\n",
       "      <td>4151.5</td>\n",
       "      <td>280088.0</td>\n",
       "      <td>276.0</td>\n",
       "    </tr>\n",
       "    <tr>\n",
       "      <th>75%</th>\n",
       "      <td>1.013430e+09</td>\n",
       "      <td>4.467190e+08</td>\n",
       "      <td>2.040255e+08</td>\n",
       "      <td>300.0</td>\n",
       "      <td>0.0</td>\n",
       "      <td>19528.0</td>\n",
       "      <td>1314304.0</td>\n",
       "      <td>1248.5</td>\n",
       "    </tr>\n",
       "    <tr>\n",
       "      <th>max</th>\n",
       "      <td>1.342103e+09</td>\n",
       "      <td>1.153968e+09</td>\n",
       "      <td>1.045360e+09</td>\n",
       "      <td>108605.0</td>\n",
       "      <td>126894.0</td>\n",
       "      <td>2595574.0</td>\n",
       "      <td>230028804.0</td>\n",
       "      <td>113363.0</td>\n",
       "    </tr>\n",
       "  </tbody>\n",
       "</table>\n",
       "</div>"
      ],
      "text/plain": [
       "           playlist            id       user_id  comment_count  \\\n",
       "count  4.859000e+03  4.859000e+03  4.859000e+03         4696.0   \n",
       "mean   7.173071e+08  3.890784e+08  1.407657e+08          719.7   \n",
       "std    3.488066e+08  2.291290e+08  1.593397e+08         3759.6   \n",
       "min    4.286422e+06  5.449880e+05  3.520000e+02            0.0   \n",
       "25%    3.873961e+08  2.589006e+08  2.293982e+07           25.0   \n",
       "50%    6.854110e+08  3.168234e+08  9.371888e+07           76.0   \n",
       "75%    1.013430e+09  4.467190e+08  2.040255e+08          300.0   \n",
       "max    1.342103e+09  1.153968e+09  1.045360e+09       108605.0   \n",
       "\n",
       "       download_count  likes_count  playback_count  reposts_count  \n",
       "count          4728.0       4728.0          4728.0         4859.0  \n",
       "mean            416.6      30738.2       2199013.0         1684.5  \n",
       "std            3166.2     110260.9       8884654.6         5312.3  \n",
       "min               0.0          0.0             0.0            0.0  \n",
       "25%               0.0       1052.0         62338.8           66.0  \n",
       "50%               0.0       4151.5        280088.0          276.0  \n",
       "75%               0.0      19528.0       1314304.0         1248.5  \n",
       "max          126894.0    2595574.0     230028804.0       113363.0  "
      ]
     },
     "execution_count": 11,
     "metadata": {},
     "output_type": "execute_result"
    }
   ],
   "source": [
    "tracks_df.describe().round(1)"
   ]
  },
  {
   "cell_type": "markdown",
   "metadata": {
    "id": "BY6sqguctdLj"
   },
   "source": [
    "### Mỗi dòng có ý nghĩa gì?"
   ]
  },
  {
   "cell_type": "markdown",
   "metadata": {
    "id": "G3cAwYn1tj2U"
   },
   "source": [
    "Mỗi dòng trong dataFrame 'playlists_df' cho biết thông tin của 1 playlist trên trang SoundCloud và dòng nào cũng có ý nghĩa như nhau.\n",
    "\n",
    "Mỗi dòng trong dataFrame 'tracks_df' cho biết thông tin của 1 track trên trang SoundCloud và dòng nào cũng có ý nghĩa như nhau.\n",
    "\n",
    "Mỗi dòng trong dataFrame 'user_df' cho biết thông tin của 1 người dùng trên trang SoundCloud và dòng nào cũng có ý nghĩa như nhau."
   ]
  },
  {
   "cell_type": "markdown",
   "metadata": {
    "id": "zhjLRx1Dtzgw"
   },
   "source": [
    "### Mỗi cột có ý nghĩa gì?"
   ]
  },
  {
   "cell_type": "markdown",
   "metadata": {
    "id": "DJxJM0vet4MZ"
   },
   "source": [
    "-Playlist:\n",
    "\n",
    "  id: id của playlist\n",
    "  \n",
    "  title: tiêu dề của playlist\n",
    "\n",
    "  genre: thể loại nhạc của playlist\n",
    "\n",
    "  description: mô tả playlist\n",
    "\n",
    "  url: đường dẫn đến playlist\n",
    "\n",
    "  user_id: người đăng playlist\n",
    "\n",
    "  username: tên người đăng\n",
    "\n",
    "  trackIds: id của các track thuộc playlist\n",
    "\n",
    "  track_count: số lượng track trong playlist\n",
    "\n",
    "  likes_count: số lượng lượt like\n",
    "\n",
    "  reposts_count: số lượng lượt đăng lại\n",
    "\n",
    "-Track:\n",
    "\n",
    "  playlist: track này nằm trong playlist nào(id của playlist)\n",
    "\n",
    "  id: id của track\n",
    "\n",
    "  title: tiêu đề của track\n",
    "\n",
    "  user_id: id của người đăng\n",
    "\n",
    "  artist: nghệ sĩ\n",
    "\n",
    "  description: mô tả của track\n",
    "\n",
    "  comment_count: số lượng nhận xét\n",
    "\n",
    "  downloadable: có thể tải về hay không\n",
    "\n",
    "  download_count: lượt tải về\n",
    "\n",
    "  genre: thể loại\n",
    "\n",
    "  likes_count: số lượng lượt like\n",
    "\n",
    "  url: đường dẫn đến track\n",
    "\n",
    "  playback_count: số lượng lượt phát lại\n",
    "\n",
    "  reposts_count: số lượng lượt đăng tải lại\n",
    "\n",
    "-User:\n",
    "  id: id của người dùng.\n",
    "\n",
    "  username: tên người dùng.\n",
    "\n",
    "  city: thành phố người dùng ở.\n",
    "\n",
    "  country: quê quán của người dùng.\n",
    "\n",
    "  description: mô tả của người dùng.\n",
    "\n",
    "  followers_count: số lượng người theo dõi.\n",
    "\n",
    "  followings_count: số lượng người mà người dùng theo dõi.\n",
    "\n",
    "  likes_count: số lượng lượt thích.\n",
    "\n",
    "  playlist_likes_count: số lượng lượt thích playlist của người dùng.\n",
    "\n",
    "  url: đường dẫn đến người dùng.\n",
    "\n",
    "  playlist_count: số lượng playlist đã đăng.\n",
    "\n",
    "  track_count: số lượng track đã đăng."
   ]
  },
  {
   "cell_type": "markdown",
   "metadata": {
    "id": "5ARMB6ZdudjL"
   },
   "source": [
    "### Với mỗi cột có kiểu dữ liệu dạng số, các giá trị được phân bố như thế nào?"
   ]
  },
  {
   "cell_type": "markdown",
   "metadata": {
    "id": "D5q86Gjru-mj"
   },
   "source": [
    "Tính:\n",
    "\n",
    "-Tỉ lệ % (từ 0 đến 100) các giá trị thiếu\n",
    "\n",
    "-Giá trị min\n",
    "\n",
    "-Giá trị lower quartile (phân vị 25)\n",
    "\n",
    "-Giá trị median (phân vị 50)\n",
    "\n",
    "-Giá trị upper quartile (phân vị 75)\n",
    "\n",
    "-Giá trị max\n",
    "\n",
    "Chúng ta sẽ lưu kết quả vào các DataFrame, trong đó: \n",
    "- Tên của các cột là tên của các cột có kiểu dữ liệu số.\n",
    "- Tên của các dòng là: \"missing_percentage\", \"min\", \"lower_quartile\", \"median\", \"upper_quartile\", \"max\"  \n",
    "\n",
    "Để dễ nhìn, tất cả các giá trị đều làm tròn với 1 chữ số thập phân bằng phương thức `.round(1)`."
   ]
  },
  {
   "cell_type": "code",
   "execution_count": 12,
   "metadata": {
    "id": "Jk5CauCivKi9"
   },
   "outputs": [],
   "source": [
    "def XuLy(number_df,columnName,df):\n",
    "    list_values=[\n",
    "                 ((df[columnName].isna().sum()/df[columnName].size)*100),   \n",
    "                 #.isna().sum() dùng để tính số lượng các giá trị thiếu, (số lượng giá trị thiếu/tổng số lượng giá trị)= tỉ lệ % các giá trị thiếu\n",
    "                 (df[columnName].min()), # .min() dùng để tính giá trị min\n",
    "                 (df[columnName].quantile(0.25)),# .quantile(0.25) dùng để tính phân vị 25\n",
    "                 (df[columnName].median()), # .median()=.quantile(0.5) dùng để tính phân vị 50\n",
    "                 (df[columnName].quantile(0.75)),# .quantile(0.75) dùng để tính phân vị 75\n",
    "                 (df[columnName].max())# .max() dùng để tính giá trị max\n",
    "                 ]\n",
    "    number_df[columnName]=list_values"
   ]
  },
  {
   "cell_type": "code",
   "execution_count": 13,
   "metadata": {
    "colab": {
     "base_uri": "https://localhost:8080/",
     "height": 235
    },
    "id": "yP_QuIOaJR4V",
    "outputId": "099b3c2f-84f3-4b55-fd62-fb06a219aa13"
   },
   "outputs": [
    {
     "data": {
      "text/html": [
       "<div>\n",
       "<style scoped>\n",
       "    .dataframe tbody tr th:only-of-type {\n",
       "        vertical-align: middle;\n",
       "    }\n",
       "\n",
       "    .dataframe tbody tr th {\n",
       "        vertical-align: top;\n",
       "    }\n",
       "\n",
       "    .dataframe thead th {\n",
       "        text-align: right;\n",
       "    }\n",
       "</style>\n",
       "<table border=\"1\" class=\"dataframe\">\n",
       "  <thead>\n",
       "    <tr style=\"text-align: right;\">\n",
       "      <th></th>\n",
       "      <th>id</th>\n",
       "      <th>user_id</th>\n",
       "      <th>track_count</th>\n",
       "      <th>likes_count</th>\n",
       "      <th>reposts_count</th>\n",
       "    </tr>\n",
       "  </thead>\n",
       "  <tbody>\n",
       "    <tr>\n",
       "      <th>missing_percentage</th>\n",
       "      <td>0.000000e+00</td>\n",
       "      <td>0.000000e+00</td>\n",
       "      <td>0.0</td>\n",
       "      <td>0.0</td>\n",
       "      <td>0.0</td>\n",
       "    </tr>\n",
       "    <tr>\n",
       "      <th>min</th>\n",
       "      <td>4.286422e+06</td>\n",
       "      <td>5.952800e+04</td>\n",
       "      <td>1.0</td>\n",
       "      <td>0.0</td>\n",
       "      <td>0.0</td>\n",
       "    </tr>\n",
       "    <tr>\n",
       "      <th>lower_quartile</th>\n",
       "      <td>3.861310e+08</td>\n",
       "      <td>1.054676e+08</td>\n",
       "      <td>97.0</td>\n",
       "      <td>0.0</td>\n",
       "      <td>0.0</td>\n",
       "    </tr>\n",
       "    <tr>\n",
       "      <th>median</th>\n",
       "      <td>6.823627e+08</td>\n",
       "      <td>2.476779e+08</td>\n",
       "      <td>135.5</td>\n",
       "      <td>2.0</td>\n",
       "      <td>0.0</td>\n",
       "    </tr>\n",
       "    <tr>\n",
       "      <th>upper_quartile</th>\n",
       "      <td>1.017405e+09</td>\n",
       "      <td>4.524720e+08</td>\n",
       "      <td>260.0</td>\n",
       "      <td>6.0</td>\n",
       "      <td>1.0</td>\n",
       "    </tr>\n",
       "    <tr>\n",
       "      <th>max</th>\n",
       "      <td>1.342103e+09</td>\n",
       "      <td>1.042641e+09</td>\n",
       "      <td>500.0</td>\n",
       "      <td>385941.0</td>\n",
       "      <td>23677.0</td>\n",
       "    </tr>\n",
       "  </tbody>\n",
       "</table>\n",
       "</div>"
      ],
      "text/plain": [
       "                              id       user_id  track_count  likes_count  \\\n",
       "missing_percentage  0.000000e+00  0.000000e+00          0.0          0.0   \n",
       "min                 4.286422e+06  5.952800e+04          1.0          0.0   \n",
       "lower_quartile      3.861310e+08  1.054676e+08         97.0          0.0   \n",
       "median              6.823627e+08  2.476779e+08        135.5          2.0   \n",
       "upper_quartile      1.017405e+09  4.524720e+08        260.0          6.0   \n",
       "max                 1.342103e+09  1.042641e+09        500.0     385941.0   \n",
       "\n",
       "                    reposts_count  \n",
       "missing_percentage            0.0  \n",
       "min                           0.0  \n",
       "lower_quartile                0.0  \n",
       "median                        0.0  \n",
       "upper_quartile                1.0  \n",
       "max                       23677.0  "
      ]
     },
     "execution_count": 13,
     "metadata": {},
     "output_type": "execute_result"
    }
   ],
   "source": [
    "cols=['id','user_id','track_count','likes_count','reposts_count']\n",
    "rows=['missing_percentage', 'min', 'lower_quartile', 'median', 'upper_quartile', 'max']\n",
    "number_df=pd.DataFrame(index=rows,columns=cols)\n",
    "for name in cols:\n",
    "    XuLy(number_df,name,playlists_df)\n",
    "number_df.round(1)"
   ]
  },
  {
   "cell_type": "code",
   "execution_count": 14,
   "metadata": {
    "colab": {
     "base_uri": "https://localhost:8080/",
     "height": 234
    },
    "id": "mOqVZjumvk-1",
    "outputId": "df550dbf-5d1a-4bf9-ad89-3f09bb116fd9"
   },
   "outputs": [
    {
     "data": {
      "text/html": [
       "<div>\n",
       "<style scoped>\n",
       "    .dataframe tbody tr th:only-of-type {\n",
       "        vertical-align: middle;\n",
       "    }\n",
       "\n",
       "    .dataframe tbody tr th {\n",
       "        vertical-align: top;\n",
       "    }\n",
       "\n",
       "    .dataframe thead th {\n",
       "        text-align: right;\n",
       "    }\n",
       "</style>\n",
       "<table border=\"1\" class=\"dataframe\">\n",
       "  <thead>\n",
       "    <tr style=\"text-align: right;\">\n",
       "      <th></th>\n",
       "      <th>playlist</th>\n",
       "      <th>id</th>\n",
       "      <th>user_id</th>\n",
       "      <th>comment_count</th>\n",
       "      <th>download_count</th>\n",
       "      <th>likes_count</th>\n",
       "      <th>playback_count</th>\n",
       "      <th>reposts_count</th>\n",
       "    </tr>\n",
       "  </thead>\n",
       "  <tbody>\n",
       "    <tr>\n",
       "      <th>missing_percentage</th>\n",
       "      <td>0.000000e+00</td>\n",
       "      <td>0.000000e+00</td>\n",
       "      <td>0.000000e+00</td>\n",
       "      <td>3.3546</td>\n",
       "      <td>2.696028</td>\n",
       "      <td>2.696028e+00</td>\n",
       "      <td>2.696028e+00</td>\n",
       "      <td>0.0</td>\n",
       "    </tr>\n",
       "    <tr>\n",
       "      <th>min</th>\n",
       "      <td>4.286422e+06</td>\n",
       "      <td>5.449880e+05</td>\n",
       "      <td>3.520000e+02</td>\n",
       "      <td>0.0000</td>\n",
       "      <td>0.000000</td>\n",
       "      <td>0.000000e+00</td>\n",
       "      <td>0.000000e+00</td>\n",
       "      <td>0.0</td>\n",
       "    </tr>\n",
       "    <tr>\n",
       "      <th>lower_quartile</th>\n",
       "      <td>3.873961e+08</td>\n",
       "      <td>2.589006e+08</td>\n",
       "      <td>2.293982e+07</td>\n",
       "      <td>25.0000</td>\n",
       "      <td>0.000000</td>\n",
       "      <td>1.052000e+03</td>\n",
       "      <td>6.233875e+04</td>\n",
       "      <td>66.0</td>\n",
       "    </tr>\n",
       "    <tr>\n",
       "      <th>median</th>\n",
       "      <td>6.854110e+08</td>\n",
       "      <td>3.168234e+08</td>\n",
       "      <td>9.371888e+07</td>\n",
       "      <td>76.0000</td>\n",
       "      <td>0.000000</td>\n",
       "      <td>4.151500e+03</td>\n",
       "      <td>2.800880e+05</td>\n",
       "      <td>276.0</td>\n",
       "    </tr>\n",
       "    <tr>\n",
       "      <th>upper_quartile</th>\n",
       "      <td>1.013430e+09</td>\n",
       "      <td>4.467190e+08</td>\n",
       "      <td>2.040255e+08</td>\n",
       "      <td>300.0000</td>\n",
       "      <td>0.000000</td>\n",
       "      <td>1.952800e+04</td>\n",
       "      <td>1.314304e+06</td>\n",
       "      <td>1248.5</td>\n",
       "    </tr>\n",
       "    <tr>\n",
       "      <th>max</th>\n",
       "      <td>1.342103e+09</td>\n",
       "      <td>1.153968e+09</td>\n",
       "      <td>1.045360e+09</td>\n",
       "      <td>108605.0000</td>\n",
       "      <td>126894.000000</td>\n",
       "      <td>2.595574e+06</td>\n",
       "      <td>2.300288e+08</td>\n",
       "      <td>113363.0</td>\n",
       "    </tr>\n",
       "  </tbody>\n",
       "</table>\n",
       "</div>"
      ],
      "text/plain": [
       "                        playlist            id       user_id  comment_count  \\\n",
       "missing_percentage  0.000000e+00  0.000000e+00  0.000000e+00         3.3546   \n",
       "min                 4.286422e+06  5.449880e+05  3.520000e+02         0.0000   \n",
       "lower_quartile      3.873961e+08  2.589006e+08  2.293982e+07        25.0000   \n",
       "median              6.854110e+08  3.168234e+08  9.371888e+07        76.0000   \n",
       "upper_quartile      1.013430e+09  4.467190e+08  2.040255e+08       300.0000   \n",
       "max                 1.342103e+09  1.153968e+09  1.045360e+09    108605.0000   \n",
       "\n",
       "                    download_count   likes_count  playback_count  \\\n",
       "missing_percentage        2.696028  2.696028e+00    2.696028e+00   \n",
       "min                       0.000000  0.000000e+00    0.000000e+00   \n",
       "lower_quartile            0.000000  1.052000e+03    6.233875e+04   \n",
       "median                    0.000000  4.151500e+03    2.800880e+05   \n",
       "upper_quartile            0.000000  1.952800e+04    1.314304e+06   \n",
       "max                  126894.000000  2.595574e+06    2.300288e+08   \n",
       "\n",
       "                    reposts_count  \n",
       "missing_percentage            0.0  \n",
       "min                           0.0  \n",
       "lower_quartile               66.0  \n",
       "median                      276.0  \n",
       "upper_quartile             1248.5  \n",
       "max                      113363.0  "
      ]
     },
     "execution_count": 14,
     "metadata": {},
     "output_type": "execute_result"
    }
   ],
   "source": [
    "track_cols=['playlist','id','user_id','comment_count','download_count','likes_count','playback_count','reposts_count']\n",
    "track_rows=['missing_percentage', 'min', 'lower_quartile', 'median', 'upper_quartile', 'max']\n",
    "track_number_df=pd.DataFrame(index=track_rows,columns=track_cols)\n",
    "for name in track_cols:\n",
    "    XuLy(track_number_df,name,tracks_df)\n",
    "track_number_df"
   ]
  },
  {
   "cell_type": "code",
   "execution_count": 15,
   "metadata": {
    "colab": {
     "base_uri": "https://localhost:8080/",
     "height": 234
    },
    "id": "lYQodEgJvuUe",
    "outputId": "e2054d7d-fe5f-43f6-c687-7b77109bebff"
   },
   "outputs": [
    {
     "data": {
      "text/html": [
       "<div>\n",
       "<style scoped>\n",
       "    .dataframe tbody tr th:only-of-type {\n",
       "        vertical-align: middle;\n",
       "    }\n",
       "\n",
       "    .dataframe tbody tr th {\n",
       "        vertical-align: top;\n",
       "    }\n",
       "\n",
       "    .dataframe thead th {\n",
       "        text-align: right;\n",
       "    }\n",
       "</style>\n",
       "<table border=\"1\" class=\"dataframe\">\n",
       "  <thead>\n",
       "    <tr style=\"text-align: right;\">\n",
       "      <th></th>\n",
       "      <th>id</th>\n",
       "      <th>followers_count</th>\n",
       "      <th>followings_count</th>\n",
       "      <th>likes_count</th>\n",
       "      <th>playlist_likes_count</th>\n",
       "      <th>playlist_count</th>\n",
       "      <th>track_count</th>\n",
       "    </tr>\n",
       "  </thead>\n",
       "  <tbody>\n",
       "    <tr>\n",
       "      <th>missing_percentage</th>\n",
       "      <td>0.000000e+00</td>\n",
       "      <td>0.0</td>\n",
       "      <td>0.00</td>\n",
       "      <td>0.0</td>\n",
       "      <td>0.0</td>\n",
       "      <td>0.0</td>\n",
       "      <td>0.0</td>\n",
       "    </tr>\n",
       "    <tr>\n",
       "      <th>min</th>\n",
       "      <td>5.952800e+04</td>\n",
       "      <td>0.0</td>\n",
       "      <td>0.00</td>\n",
       "      <td>0.0</td>\n",
       "      <td>0.0</td>\n",
       "      <td>0.0</td>\n",
       "      <td>0.0</td>\n",
       "    </tr>\n",
       "    <tr>\n",
       "      <th>lower_quartile</th>\n",
       "      <td>1.054676e+08</td>\n",
       "      <td>4.0</td>\n",
       "      <td>13.00</td>\n",
       "      <td>78.5</td>\n",
       "      <td>2.0</td>\n",
       "      <td>2.0</td>\n",
       "      <td>0.0</td>\n",
       "    </tr>\n",
       "    <tr>\n",
       "      <th>median</th>\n",
       "      <td>2.476779e+08</td>\n",
       "      <td>12.0</td>\n",
       "      <td>44.00</td>\n",
       "      <td>345.0</td>\n",
       "      <td>8.0</td>\n",
       "      <td>5.0</td>\n",
       "      <td>0.0</td>\n",
       "    </tr>\n",
       "    <tr>\n",
       "      <th>upper_quartile</th>\n",
       "      <td>4.524720e+08</td>\n",
       "      <td>48.0</td>\n",
       "      <td>132.25</td>\n",
       "      <td>881.0</td>\n",
       "      <td>19.0</td>\n",
       "      <td>13.0</td>\n",
       "      <td>1.0</td>\n",
       "    </tr>\n",
       "    <tr>\n",
       "      <th>max</th>\n",
       "      <td>1.042641e+09</td>\n",
       "      <td>191356.0</td>\n",
       "      <td>2009.00</td>\n",
       "      <td>14444.0</td>\n",
       "      <td>2054.0</td>\n",
       "      <td>3784.0</td>\n",
       "      <td>1349.0</td>\n",
       "    </tr>\n",
       "  </tbody>\n",
       "</table>\n",
       "</div>"
      ],
      "text/plain": [
       "                              id  followers_count  followings_count  \\\n",
       "missing_percentage  0.000000e+00              0.0              0.00   \n",
       "min                 5.952800e+04              0.0              0.00   \n",
       "lower_quartile      1.054676e+08              4.0             13.00   \n",
       "median              2.476779e+08             12.0             44.00   \n",
       "upper_quartile      4.524720e+08             48.0            132.25   \n",
       "max                 1.042641e+09         191356.0           2009.00   \n",
       "\n",
       "                    likes_count  playlist_likes_count  playlist_count  \\\n",
       "missing_percentage          0.0                   0.0             0.0   \n",
       "min                         0.0                   0.0             0.0   \n",
       "lower_quartile             78.5                   2.0             2.0   \n",
       "median                    345.0                   8.0             5.0   \n",
       "upper_quartile            881.0                  19.0            13.0   \n",
       "max                     14444.0                2054.0          3784.0   \n",
       "\n",
       "                    track_count  \n",
       "missing_percentage          0.0  \n",
       "min                         0.0  \n",
       "lower_quartile              0.0  \n",
       "median                      0.0  \n",
       "upper_quartile              1.0  \n",
       "max                      1349.0  "
      ]
     },
     "execution_count": 15,
     "metadata": {},
     "output_type": "execute_result"
    }
   ],
   "source": [
    "user_cols=['id','followers_count','followings_count','likes_count','playlist_likes_count','playlist_count','track_count']\n",
    "user_rows=['missing_percentage', 'min', 'lower_quartile', 'median', 'upper_quartile', 'max']\n",
    "user_number_df=pd.DataFrame(index=user_rows,columns=user_cols)\n",
    "for name in user_cols:\n",
    "    XuLy(user_number_df,name,users_df)\n",
    "user_number_df"
   ]
  },
  {
   "cell_type": "markdown",
   "metadata": {
    "id": "hZbcXcYUv8Mz"
   },
   "source": [
    "### Với mỗi cột có kiểu dữ liệu không phải dạng số, các giá trị được phân bố như thế nào?"
   ]
  },
  {
   "cell_type": "markdown",
   "metadata": {
    "id": "i-J5luNMv8zR"
   },
   "source": [
    "Với các cột có kiểu dữ liệu không phải số,tính:\n",
    "- Tỉ lệ % (từ 0 đến 100) các giá trị thiếu \n",
    "- Số lượng các giá trị (các giá trị ở đây là các giá trị khác nhau và ta không xét giá trị thiếu)\n",
    "- Tỉ lệ % (từ 0 đến 100) của mỗi giá trị được sort theo tỉ lệ % giảm dần (ta không xét giá trị thiếu, tỉ lệ là tỉ lệ so với số lượng các giá trị không thiếu): dùng dictionary để lưu, key là giá trị, value là tỉ lệ %.\n",
    "\n",
    "Chúng ta sẽ lưu kết quả vào các DataFrame, trong đó: \n",
    "- Tên của các cột là tên của các cột không phải số.\n",
    "- Tên của các dòng là: \"missing_percentage\", \"num_values\", \"value_percentages\"  "
   ]
  },
  {
   "cell_type": "code",
   "execution_count": 16,
   "metadata": {
    "id": "f3EMp0k9wHiA"
   },
   "outputs": [],
   "source": [
    "def SavetoDataFrame(info_df,columnName,df):\n",
    "    List=df[columnName].unique().tolist() #.unique() dùng để tìm các giá trị khác nhau\n",
    "    if np.nan in List:\n",
    "        List.remove(np.nan) #Xóa giá trị nan ra khỏi List\n",
    "    num_values=len(List) #Số lượng các giá trị khác nhau không xét giá trị thiếu\n",
    "    groupData=df[columnName].reset_index(\n",
    "        name=columnName).groupby(columnName).size().reset_index(name='counts') \n",
    "    #.reset_index(name=columnName) dùng để reset lại cột index và đặt tên cho cột mới giống với columnName\n",
    "    #.groupby(columnName).size().reset_index(name=NAME) dùng để gom nhóm dữ liệu theo cột 'columnName' \n",
    "    #và tạo 1 cột mới tên là 'NAME' mang giá trị là số lần xuất hiện của giá trị ở cột vừa gom nhóm.\n",
    "    values=groupData['counts'].tolist() #.tolist() dùng để chuyển các giá trị của Series thành một list\n",
    "    groupData['counts']=((groupData['counts']/sum(values))*100).round(1) #Tính tỉ lệ %\n",
    "    percentage_value=groupData.set_index(columnName).T.to_dict('records') \n",
    "    #.set_index(columnName) gán cột 'columnName' làm index\n",
    "    #.to_dict() dùng để chuyển đổi DataFrame thành dictionary\n",
    "    dict_result=percentage_value[0]\n",
    "    list_values=[((df[columnName].isna().sum()/df[columnName].size)*100).round(1),\n",
    "                 #.isna().sum() dùng để tính số lượng các giá trị thiếu, \n",
    "                 #(số lượng giá trị thiếu/tổng số lượng giá trị)= tỉ lệ % các giá trị thiếu\n",
    "                 num_values,\n",
    "                 dict_result] \n",
    "    info_df[columnName]=list_values"
   ]
  },
  {
   "cell_type": "code",
   "execution_count": 17,
   "metadata": {
    "colab": {
     "base_uri": "https://localhost:8080/",
     "height": 210
    },
    "id": "bQCCBMP1LzI6",
    "outputId": "c36c9606-bcc3-4d1a-ff27-1dd33cfdf841"
   },
   "outputs": [
    {
     "data": {
      "text/html": [
       "<div>\n",
       "<style scoped>\n",
       "    .dataframe tbody tr th:only-of-type {\n",
       "        vertical-align: middle;\n",
       "    }\n",
       "\n",
       "    .dataframe tbody tr th {\n",
       "        vertical-align: top;\n",
       "    }\n",
       "\n",
       "    .dataframe thead th {\n",
       "        text-align: right;\n",
       "    }\n",
       "</style>\n",
       "<table border=\"1\" class=\"dataframe\">\n",
       "  <thead>\n",
       "    <tr style=\"text-align: right;\">\n",
       "      <th></th>\n",
       "      <th>title</th>\n",
       "      <th>genre</th>\n",
       "      <th>description</th>\n",
       "      <th>url</th>\n",
       "      <th>username</th>\n",
       "    </tr>\n",
       "  </thead>\n",
       "  <tbody>\n",
       "    <tr>\n",
       "      <th>missing_percentage</th>\n",
       "      <td>0.0</td>\n",
       "      <td>66.7</td>\n",
       "      <td>89.3</td>\n",
       "      <td>0.0</td>\n",
       "      <td>0.0</td>\n",
       "    </tr>\n",
       "    <tr>\n",
       "      <th>num_values</th>\n",
       "      <td>139</td>\n",
       "      <td>69</td>\n",
       "      <td>101</td>\n",
       "      <td>992</td>\n",
       "      <td>934</td>\n",
       "    </tr>\n",
       "    <tr>\n",
       "      <th>value_percentages</th>\n",
       "      <td>{'---&gt;LOFI&lt;---': 0.1, '.•° Lo-Fi °•.': 0.1, '/...</td>\n",
       "      <td>{'#lo-fi': 0.3, '2020 punjabi songs': 0.3, 'Am...</td>\n",
       "      <td>{'\"Beats Bank\"': 0.9, '### SHUFFLE ME :) ###\n",
       "T...</td>\n",
       "      <td>{'https://soundcloud.com/01001111000/sets/lofi...</td>\n",
       "      <td>{'*': 0.1, '.ducan 🍁': 0.1, '0/10': 0.1, '1996...</td>\n",
       "    </tr>\n",
       "  </tbody>\n",
       "</table>\n",
       "</div>"
      ],
      "text/plain": [
       "                                                                title  \\\n",
       "missing_percentage                                                0.0   \n",
       "num_values                                                        139   \n",
       "value_percentages   {'--->LOFI<---': 0.1, '.•° Lo-Fi °•.': 0.1, '/...   \n",
       "\n",
       "                                                                genre  \\\n",
       "missing_percentage                                               66.7   \n",
       "num_values                                                         69   \n",
       "value_percentages   {'#lo-fi': 0.3, '2020 punjabi songs': 0.3, 'Am...   \n",
       "\n",
       "                                                          description  \\\n",
       "missing_percentage                                               89.3   \n",
       "num_values                                                        101   \n",
       "value_percentages   {'\"Beats Bank\"': 0.9, '### SHUFFLE ME :) ###\n",
       "T...   \n",
       "\n",
       "                                                                  url  \\\n",
       "missing_percentage                                                0.0   \n",
       "num_values                                                        992   \n",
       "value_percentages   {'https://soundcloud.com/01001111000/sets/lofi...   \n",
       "\n",
       "                                                             username  \n",
       "missing_percentage                                                0.0  \n",
       "num_values                                                        934  \n",
       "value_percentages   {'*': 0.1, '.ducan 🍁': 0.1, '0/10': 0.1, '1996...  "
      ]
     },
     "execution_count": 17,
     "metadata": {},
     "output_type": "execute_result"
    }
   ],
   "source": [
    "cols=['title','genre','description','url','username']\n",
    "rows=['missing_percentage','num_values','value_percentages']\n",
    "info_df=pd.DataFrame(index=rows,columns=cols)\n",
    "for name in cols:\n",
    "    SavetoDataFrame(info_df,name,playlists_df)\n",
    "info_df"
   ]
  },
  {
   "cell_type": "code",
   "execution_count": 18,
   "metadata": {
    "colab": {
     "base_uri": "https://localhost:8080/",
     "height": 298
    },
    "id": "PQrFPdiLwPEz",
    "outputId": "5df57584-1ae9-412b-d8b1-66acaf7038a2"
   },
   "outputs": [
    {
     "data": {
      "text/html": [
       "<div>\n",
       "<style scoped>\n",
       "    .dataframe tbody tr th:only-of-type {\n",
       "        vertical-align: middle;\n",
       "    }\n",
       "\n",
       "    .dataframe tbody tr th {\n",
       "        vertical-align: top;\n",
       "    }\n",
       "\n",
       "    .dataframe thead th {\n",
       "        text-align: right;\n",
       "    }\n",
       "</style>\n",
       "<table border=\"1\" class=\"dataframe\">\n",
       "  <thead>\n",
       "    <tr style=\"text-align: right;\">\n",
       "      <th></th>\n",
       "      <th>title</th>\n",
       "      <th>artist</th>\n",
       "      <th>description</th>\n",
       "      <th>downloadable</th>\n",
       "      <th>genre</th>\n",
       "      <th>url</th>\n",
       "    </tr>\n",
       "  </thead>\n",
       "  <tbody>\n",
       "    <tr>\n",
       "      <th>missing_percentage</th>\n",
       "      <td>0.0</td>\n",
       "      <td>44.6</td>\n",
       "      <td>26.0</td>\n",
       "      <td>0.0</td>\n",
       "      <td>16.0</td>\n",
       "      <td>0.0</td>\n",
       "    </tr>\n",
       "    <tr>\n",
       "      <th>num_values</th>\n",
       "      <td>3571</td>\n",
       "      <td>1190</td>\n",
       "      <td>2546</td>\n",
       "      <td>2</td>\n",
       "      <td>1049</td>\n",
       "      <td>3608</td>\n",
       "    </tr>\n",
       "    <tr>\n",
       "      <th>value_percentages</th>\n",
       "      <td>{'\"4AM Thirst Ballad\" (prod. by Cloud Atrium)'...</td>\n",
       "      <td>{'$US VALENTINO': 0.0, '$uicideboy$': 0.1, '$u...</td>\n",
       "      <td>{'\n",
       "': 0.1, '\n",
       "\n",
       "&lt;a href='https://theartistunion....</td>\n",
       "      <td>{False: 85.5, True: 14.5}</td>\n",
       "      <td>{' ℒℴνℯ': 0.0, '#Jazz &amp; Hip Hop': 0.0, '#Lo-fi...</td>\n",
       "      <td>{'https://soundcloud.com/0205003/bat-chap-whee...</td>\n",
       "    </tr>\n",
       "  </tbody>\n",
       "</table>\n",
       "</div>"
      ],
      "text/plain": [
       "                                                                title  \\\n",
       "missing_percentage                                                0.0   \n",
       "num_values                                                       3571   \n",
       "value_percentages   {'\"4AM Thirst Ballad\" (prod. by Cloud Atrium)'...   \n",
       "\n",
       "                                                               artist  \\\n",
       "missing_percentage                                               44.6   \n",
       "num_values                                                       1190   \n",
       "value_percentages   {'$US VALENTINO': 0.0, '$uicideboy$': 0.1, '$u...   \n",
       "\n",
       "                                                          description  \\\n",
       "missing_percentage                                               26.0   \n",
       "num_values                                                       2546   \n",
       "value_percentages   {'\n",
       "': 0.1, '\n",
       "\n",
       "<a href='https://theartistunion....   \n",
       "\n",
       "                                 downloadable  \\\n",
       "missing_percentage                        0.0   \n",
       "num_values                                  2   \n",
       "value_percentages   {False: 85.5, True: 14.5}   \n",
       "\n",
       "                                                                genre  \\\n",
       "missing_percentage                                               16.0   \n",
       "num_values                                                       1049   \n",
       "value_percentages   {' ℒℴνℯ': 0.0, '#Jazz & Hip Hop': 0.0, '#Lo-fi...   \n",
       "\n",
       "                                                                  url  \n",
       "missing_percentage                                                0.0  \n",
       "num_values                                                       3608  \n",
       "value_percentages   {'https://soundcloud.com/0205003/bat-chap-whee...  "
      ]
     },
     "execution_count": 18,
     "metadata": {},
     "output_type": "execute_result"
    }
   ],
   "source": [
    "track_cols=['title','artist','description','downloadable','genre','url']\n",
    "track_rows=['missing_percentage','num_values','value_percentages']\n",
    "track_info_df=pd.DataFrame(index=track_rows,columns=track_cols)\n",
    "for name in track_cols:\n",
    "    SavetoDataFrame(track_info_df,name,tracks_df)\n",
    "track_info_df"
   ]
  },
  {
   "cell_type": "code",
   "execution_count": 19,
   "metadata": {
    "colab": {
     "base_uri": "https://localhost:8080/",
     "height": 176
    },
    "id": "CUOu2yQhwWS9",
    "outputId": "090087c8-59d5-46b5-c0e9-31c0e1266353"
   },
   "outputs": [
    {
     "data": {
      "text/html": [
       "<div>\n",
       "<style scoped>\n",
       "    .dataframe tbody tr th:only-of-type {\n",
       "        vertical-align: middle;\n",
       "    }\n",
       "\n",
       "    .dataframe tbody tr th {\n",
       "        vertical-align: top;\n",
       "    }\n",
       "\n",
       "    .dataframe thead th {\n",
       "        text-align: right;\n",
       "    }\n",
       "</style>\n",
       "<table border=\"1\" class=\"dataframe\">\n",
       "  <thead>\n",
       "    <tr style=\"text-align: right;\">\n",
       "      <th></th>\n",
       "      <th>username</th>\n",
       "      <th>city</th>\n",
       "      <th>country</th>\n",
       "      <th>description</th>\n",
       "      <th>url</th>\n",
       "    </tr>\n",
       "  </thead>\n",
       "  <tbody>\n",
       "    <tr>\n",
       "      <th>missing_percentage</th>\n",
       "      <td>0.0</td>\n",
       "      <td>67.3</td>\n",
       "      <td>65.8</td>\n",
       "      <td>64.9</td>\n",
       "      <td>0.0</td>\n",
       "    </tr>\n",
       "    <tr>\n",
       "      <th>num_values</th>\n",
       "      <td>934</td>\n",
       "      <td>265</td>\n",
       "      <td>55</td>\n",
       "      <td>297</td>\n",
       "      <td>937</td>\n",
       "    </tr>\n",
       "    <tr>\n",
       "      <th>value_percentages</th>\n",
       "      <td>{'*': 0.1, '.ducan 🍁': 0.1, '0/10': 0.1, '1996...</td>\n",
       "      <td>{'(~˘▾˘)~': 0.3, '...': 0.3, '2021~Low Fi~Chil...</td>\n",
       "      <td>{'AD': 0.3, 'AQ': 0.9, 'AR': 0.3, 'AT': 0.3, '...</td>\n",
       "      <td>{' Be a good person and I will value you, man ...</td>\n",
       "      <td>{'https://soundcloud.com/01001111000': 0.1, 'h...</td>\n",
       "    </tr>\n",
       "  </tbody>\n",
       "</table>\n",
       "</div>"
      ],
      "text/plain": [
       "                                                             username  \\\n",
       "missing_percentage                                                0.0   \n",
       "num_values                                                        934   \n",
       "value_percentages   {'*': 0.1, '.ducan 🍁': 0.1, '0/10': 0.1, '1996...   \n",
       "\n",
       "                                                                 city  \\\n",
       "missing_percentage                                               67.3   \n",
       "num_values                                                        265   \n",
       "value_percentages   {'(~˘▾˘)~': 0.3, '...': 0.3, '2021~Low Fi~Chil...   \n",
       "\n",
       "                                                              country  \\\n",
       "missing_percentage                                               65.8   \n",
       "num_values                                                         55   \n",
       "value_percentages   {'AD': 0.3, 'AQ': 0.9, 'AR': 0.3, 'AT': 0.3, '...   \n",
       "\n",
       "                                                          description  \\\n",
       "missing_percentage                                               64.9   \n",
       "num_values                                                        297   \n",
       "value_percentages   {' Be a good person and I will value you, man ...   \n",
       "\n",
       "                                                                  url  \n",
       "missing_percentage                                                0.0  \n",
       "num_values                                                        937  \n",
       "value_percentages   {'https://soundcloud.com/01001111000': 0.1, 'h...  "
      ]
     },
     "execution_count": 19,
     "metadata": {},
     "output_type": "execute_result"
    }
   ],
   "source": [
    "user_cols=['username','city','country','description','url']\n",
    "user_rows=['missing_percentage','num_values','value_percentages']\n",
    "user_info_df=pd.DataFrame(index=user_rows,columns=user_cols)\n",
    "for name in user_cols:\n",
    "    SavetoDataFrame(user_info_df,name,users_df)\n",
    "user_info_df"
   ]
  },
  {
   "cell_type": "markdown",
   "metadata": {
    "id": "AfTDF5g80PK-"
   },
   "source": [
    "## Đồ thị giải đáp câu hỏi"
   ]
  },
  {
   "cell_type": "markdown",
   "metadata": {
    "id": "WqKX8vHs4rv4"
   },
   "source": [
    "# Tiền xử lý dữ liệu"
   ]
  },
  {
   "cell_type": "markdown",
   "metadata": {
    "id": "s9ADfKzt4w8f"
   },
   "source": [
    "### 1. Dữ liệu có bị thiếu không?"
   ]
  },
  {
   "cell_type": "markdown",
   "metadata": {
    "id": "Cv7C9FoU402S"
   },
   "source": [
    "Đầu tiên ta sẽ xét file playlist.csv"
   ]
  },
  {
   "cell_type": "code",
   "execution_count": 22,
   "metadata": {
    "colab": {
     "base_uri": "https://localhost:8080/"
    },
    "id": "r6Lqf7an48Ss",
    "outputId": "23fcac78-fee1-4dc9-8040-7eacc1d7064c"
   },
   "outputs": [
    {
     "data": {
      "text/plain": [
       "id                 0\n",
       "title              0\n",
       "genre            667\n",
       "description      893\n",
       "url                0\n",
       "user_id            0\n",
       "username           0\n",
       "trackIds           5\n",
       "track_count        0\n",
       "likes_count        0\n",
       "reposts_count      0\n",
       "dtype: int64"
      ]
     },
     "execution_count": 22,
     "metadata": {},
     "output_type": "execute_result"
    }
   ],
   "source": [
    "playlists_df.isna().sum()"
   ]
  },
  {
   "cell_type": "markdown",
   "metadata": {
    "id": "XL6iG1ox5gR1"
   },
   "source": [
    "Như vậy playlist.csv có thiếu dữ liệu ở 3 cột : genre, description và trackIds <br />\n",
    "Số liệu thiếu của từng cột: <br />\n",
    "genre       : 667  <br />\n",
    "description : 893  <br/>\n",
    "trackIds    : 5 <br />"
   ]
  },
  {
   "cell_type": "markdown",
   "metadata": {
    "id": "i-G-n2ax5lip"
   },
   "source": [
    "Tiếp theo ta sẽ xét tiếp file track.csv"
   ]
  },
  {
   "cell_type": "code",
   "execution_count": 23,
   "metadata": {
    "colab": {
     "base_uri": "https://localhost:8080/"
    },
    "id": "87Fi9mSh5tSr",
    "outputId": "d480fb15-f0c0-491e-9652-b7db1b5b7e8c"
   },
   "outputs": [
    {
     "data": {
      "text/plain": [
       "playlist             0\n",
       "id                   0\n",
       "title                0\n",
       "user_id              0\n",
       "artist            2166\n",
       "description       1263\n",
       "comment_count      163\n",
       "downloadable         0\n",
       "download_count     131\n",
       "genre              776\n",
       "likes_count        131\n",
       "url                  0\n",
       "playback_count     131\n",
       "reposts_count        0\n",
       "dtype: int64"
      ]
     },
     "execution_count": 23,
     "metadata": {},
     "output_type": "execute_result"
    }
   ],
   "source": [
    "tracks_df.isna().sum()"
   ]
  },
  {
   "cell_type": "markdown",
   "metadata": {
    "id": "FE8ZpdDR5nf7"
   },
   "source": [
    "track.csv thiếu dữ liệu ở 7 cột: artist, description, comment_count, download_count, genre, likes_count, playback_count <br />\n",
    "Số liệu thiếu của từng cột: <br />\n",
    "artist            : 2166<br />\n",
    "description       : 1263<br />\n",
    "comment_count     : 163<br />\n",
    "download_count    : 131<br />\n",
    "genre             : 776<br />\n",
    "likes_count       : 131<br />\n",
    "playback_count    : 131<br />"
   ]
  },
  {
   "cell_type": "markdown",
   "metadata": {
    "id": "FXs8XaJd5xRM"
   },
   "source": [
    "Xét file user.csv"
   ]
  },
  {
   "cell_type": "code",
   "execution_count": 24,
   "metadata": {
    "colab": {
     "base_uri": "https://localhost:8080/"
    },
    "id": "1GKC0n6I5zA6",
    "outputId": "f3403f94-4b15-464b-eb4c-4ae3559f7311"
   },
   "outputs": [
    {
     "data": {
      "text/plain": [
       "id                        0\n",
       "username                  0\n",
       "city                    673\n",
       "country                 658\n",
       "description             649\n",
       "followers_count           0\n",
       "followings_count          0\n",
       "likes_count               0\n",
       "playlist_likes_count      0\n",
       "url                       0\n",
       "playlist_count            0\n",
       "track_count               0\n",
       "dtype: int64"
      ]
     },
     "execution_count": 24,
     "metadata": {},
     "output_type": "execute_result"
    }
   ],
   "source": [
    "users_df.isna().sum()"
   ]
  },
  {
   "cell_type": "markdown",
   "metadata": {
    "id": "mp34JiIr54SZ"
   },
   "source": [
    "user.csv thiếu dữ liệu ở 3 cột: city, country, description <br />\n",
    "Số liệu thiếu của từng cột: <br />\n",
    "city                    :673 <br />\n",
    "country                 :658 <br />\n",
    "description             :649 <br />"
   ]
  },
  {
   "cell_type": "markdown",
   "metadata": {
    "id": "xka13lEm56RB"
   },
   "source": [
    "Tuy là mỗi file đều ít nhiều có dữ liệu thiếu nhưng dữ liệu thiếu đó chỉ tập trung vào các cột không quan trọng lắm.<br />\n",
    "Các cột như id, username, user_id, trackIds đều có đủ giữa các file với nhau"
   ]
  },
  {
   "cell_type": "markdown",
   "metadata": {
    "id": "iX6STQtc58JC"
   },
   "source": [
    "### 2. Mỗi bảng có các kiểu dữ liệu khác nhau? Có kiểu dữ liệu nào chưa phù hợp?"
   ]
  },
  {
   "cell_type": "markdown",
   "metadata": {
    "id": "J2duiFSs5-kp"
   },
   "source": [
    "Kiểu dữ liệu của các cột trong bảng là gì ?"
   ]
  },
  {
   "cell_type": "markdown",
   "metadata": {
    "id": "T3xLiDCh6Cz5"
   },
   "source": [
    "Bảng playlist"
   ]
  },
  {
   "cell_type": "code",
   "execution_count": 25,
   "metadata": {
    "colab": {
     "base_uri": "https://localhost:8080/"
    },
    "id": "tjQ7JgNq6EUk",
    "outputId": "fc80a712-d5d8-472c-a539-0a676845a7f8"
   },
   "outputs": [
    {
     "data": {
      "text/plain": [
       "id                int64\n",
       "title            object\n",
       "genre            object\n",
       "description      object\n",
       "url              object\n",
       "user_id           int64\n",
       "username         object\n",
       "trackIds         object\n",
       "track_count       int64\n",
       "likes_count       int64\n",
       "reposts_count     int64\n",
       "dtype: object"
      ]
     },
     "execution_count": 25,
     "metadata": {},
     "output_type": "execute_result"
    }
   ],
   "source": [
    "playlists_df.dtypes"
   ]
  },
  {
   "cell_type": "markdown",
   "metadata": {
    "id": "XN3T4-ue6Hya"
   },
   "source": [
    "Bảng track"
   ]
  },
  {
   "cell_type": "code",
   "execution_count": 26,
   "metadata": {
    "colab": {
     "base_uri": "https://localhost:8080/"
    },
    "id": "Atm1prVI6KXb",
    "outputId": "9f970b2d-d5b2-4be0-ffcc-2248f1f33a6c"
   },
   "outputs": [
    {
     "data": {
      "text/plain": [
       "playlist            int64\n",
       "id                  int64\n",
       "title              object\n",
       "user_id             int64\n",
       "artist             object\n",
       "description        object\n",
       "comment_count     float64\n",
       "downloadable         bool\n",
       "download_count    float64\n",
       "genre              object\n",
       "likes_count       float64\n",
       "url                object\n",
       "playback_count    float64\n",
       "reposts_count       int64\n",
       "dtype: object"
      ]
     },
     "execution_count": 26,
     "metadata": {},
     "output_type": "execute_result"
    }
   ],
   "source": [
    "tracks_df.dtypes"
   ]
  },
  {
   "cell_type": "markdown",
   "metadata": {
    "id": "7avsbe8S6OB7"
   },
   "source": [
    "Bảng user"
   ]
  },
  {
   "cell_type": "code",
   "execution_count": 27,
   "metadata": {
    "colab": {
     "base_uri": "https://localhost:8080/"
    },
    "id": "aJLO0krN6Ozx",
    "outputId": "0183e291-49f9-4f37-ef9b-c19797a03239"
   },
   "outputs": [
    {
     "data": {
      "text/plain": [
       "id                       int64\n",
       "username                object\n",
       "city                    object\n",
       "country                 object\n",
       "description             object\n",
       "followers_count          int64\n",
       "followings_count         int64\n",
       "likes_count              int64\n",
       "playlist_likes_count     int64\n",
       "url                     object\n",
       "playlist_count           int64\n",
       "track_count              int64\n",
       "dtype: object"
      ]
     },
     "execution_count": 27,
     "metadata": {},
     "output_type": "execute_result"
    }
   ],
   "source": [
    "users_df.dtypes"
   ]
  },
  {
   "cell_type": "markdown",
   "metadata": {
    "id": "B2yol9P36S6B"
   },
   "source": [
    " Thông tin cho thấy các kiểu dữ liệu đều hợp lệ"
   ]
  },
  {
   "cell_type": "markdown",
   "metadata": {
    "id": "K45ksMk46ZXS"
   },
   "source": [
    "### Kiểm tra các ngoại lệ"
   ]
  },
  {
   "cell_type": "markdown",
   "metadata": {
    "id": "xPb_kBCz6aY9"
   },
   "source": [
    "Không có ngoại lệ nào. "
   ]
  },
  {
   "cell_type": "markdown",
   "metadata": {
    "id": "HznyLb4ktZqo"
   },
   "source": [
    "### Tất cả user có nằm trong playlist không ?"
   ]
  },
  {
   "cell_type": "code",
   "execution_count": 28,
   "metadata": {
    "id": "4D0hMN65tded"
   },
   "outputs": [],
   "source": [
    "users_in_playlists=users_df[users_df['id'].isin(playlists_df['user_id'])]\n",
    "assert len(users_in_playlists)==len(users_df)"
   ]
  },
  {
   "cell_type": "markdown",
   "metadata": {
    "id": "kvKaGSAMtfiJ"
   },
   "source": [
    "Như vậy tất cả user đều nằm trong playlists"
   ]
  },
  {
   "cell_type": "markdown",
   "metadata": {
    "id": "yK5u3tWdtn4o"
   },
   "source": [
    "### Tất cả track có nằm trong playlist không ?"
   ]
  },
  {
   "cell_type": "code",
   "execution_count": 29,
   "metadata": {
    "id": "OEfwcfJptrS6"
   },
   "outputs": [],
   "source": [
    "tracks_in_playlists=tracks_df[tracks_df['playlist'].isin(playlists_df['id'])]\n",
    "assert len(tracks_in_playlists)==len(tracks_df)"
   ]
  },
  {
   "cell_type": "markdown",
   "metadata": {
    "id": "t9qf85hhts1t"
   },
   "source": [
    "Như vậy,tất cả track đều nằm trong playlist"
   ]
  },
  {
   "cell_type": "markdown",
   "metadata": {
    "id": "AkB8fWRAtwe3"
   },
   "source": [
    "### Tất cả user có nằm trong track hay không ?"
   ]
  },
  {
   "cell_type": "code",
   "execution_count": 30,
   "metadata": {
    "id": "eraWSqtYtuLs"
   },
   "outputs": [],
   "source": [
    "tracks_in_users=tracks_df[tracks_df['user_id'].isin(users_df['id'])]\n",
    "assert (len(tracks_in_users)==len(tracks_df))==False"
   ]
  },
  {
   "cell_type": "markdown",
   "metadata": {
    "id": "FhjmVV88t38P"
   },
   "source": [
    "Như vậy các track không nằm trong danh sách user trong dữ liệu\n",
    "\n",
    "Track chỉ nằm trong playlist của user \n",
    "\n",
    "Nguyên nhân: user phát lại track bằng hình thức repost và lưu trong playlist khi này track chỉ nằm trong playlist của user"
   ]
  },
  {
   "cell_type": "markdown",
   "metadata": {
    "id": "Si2AJspUsXGP"
   },
   "source": [
    "# Phân tích khám phá\n"
   ]
  },
  {
   "cell_type": "markdown",
   "metadata": {
    "id": "w20vNcQzspOd"
   },
   "source": [
    "## 1.Trực quan hóa mốn quan hệ đơn biến"
   ]
  },
  {
   "cell_type": "markdown",
   "metadata": {
    "id": "2RZaHTQGwmlh"
   },
   "source": [
    "##### Câu hỏi: Số lượng lượt like của người dùng được phân bố như thế nào?"
   ]
  },
  {
   "cell_type": "code",
   "execution_count": 20,
   "metadata": {
    "colab": {
     "base_uri": "https://localhost:8080/",
     "height": 178
    },
    "id": "f4YC98muyWlh",
    "outputId": "9a44f8f3-160d-4a94-ec73-11d31bfe27d9"
   },
   "outputs": [
    {
     "data": {
      "image/png": "[encoded data removed]",
      "text/plain": [
       "<Figure size 1440x720 with 1 Axes>"
      ]
     },
     "metadata": {
      "needs_background": "light"
     },
     "output_type": "display_data"
    }
   ],
   "source": [
    "sns.histplot(users_df['likes_count'])\n",
    "plt.gcf().set_size_inches(20,10)"
   ]
  },
  {
   "cell_type": "markdown",
   "metadata": {
    "id": "MFGPMSp8y1CD"
   },
   "source": [
    "Theo những gì ta quan sát được từ biểu đồ trên thì số lượng lượt like của người dùng phân bố trong khoảng từ 0 đến hơn 14000 like. Phân bố dày đặc trong khoảng từ 0 đến 2000 lượt like, những người có số lượng lượt like nhiều chắc hẳn là các ca sĩ, nhạc sĩ nổi tiếng."
   ]
  },
  {
   "cell_type": "markdown",
   "metadata": {},
   "source": [
    "##### Câu hỏi:Số lượng lượt tải của các track phân bố như thế nào?\n"
   ]
  },
  {
   "cell_type": "code",
   "execution_count": 21,
   "metadata": {
    "id": "BxuNOn9o0Xfo"
   },
   "outputs": [
    {
     "data": {
      "image/png": "[encoded data removed]",
      "text/plain": [
       "<Figure size 1440x720 with 1 Axes>"
      ]
     },
     "metadata": {
      "needs_background": "light"
     },
     "output_type": "display_data"
    }
   ],
   "source": [
    "sns.histplot(tracks_df['download_count'])\n",
    "plt.gcf().set_size_inches(20,10)"
   ]
  },
  {
   "cell_type": "markdown",
   "metadata": {
    "id": "7smDMpZR0eNJ"
   },
   "source": [
    "Theo những gì ta quan sát được từ biểu đồ trên thì số lượng lượt tải của các track phân bố từ 0 đến khoảng gần 30000 lượt, chủ yếu phân bố dày đặc từ 0 đến khoảng dưới 10000 lượt tải. Một số ít track có số lượt tải lớn hơn 10000 thậm chí là hơn 20000 có thể là những track hay nên được nhiều người tải về."
   ]
  },
  {
   "cell_type": "markdown",
   "metadata": {
    "id": "unFaZTt58AgO"
   },
   "source": [
    "##### Số lượng tracks của mỗi playlist giao động ở mức bao nhiêu ?"
   ]
  },
  {
   "cell_type": "code",
   "execution_count": 31,
   "metadata": {
    "colab": {
     "base_uri": "https://localhost:8080/",
     "height": 594
    },
    "id": "bzMwqaeK8BEW",
    "outputId": "19e86b66-95ab-4f6e-8d6c-9e05343afd6f"
   },
   "outputs": [
    {
     "data": {
      "image/png": "[encoded data removed]",
      "text/plain": [
       "<Figure size 1440x720 with 1 Axes>"
      ]
     },
     "metadata": {},
     "output_type": "display_data"
    }
   ],
   "source": [
    "sns.set_theme(style=\"darkgrid\")\n",
    "sns.boxplot(x=[180,180,191,191])\n",
    "plt.gcf().set_size_inches(20,10)"
   ]
  },
  {
   "cell_type": "markdown",
   "metadata": {
    "id": "zDUQ3epC8lWM"
   },
   "source": [
    "số lượng tracks của mỗi playlist giao động từ 0 tới 500 trung bình là khoảng 135 tracks/playlist"
   ]
  },
  {
   "cell_type": "markdown",
   "metadata": {
    "id": "cgT5jgLO7a4h"
   },
   "source": [
    "##### Sự phân bổ followings của các user như thế nào?"
   ]
  },
  {
   "cell_type": "code",
   "execution_count": 32,
   "metadata": {
    "colab": {
     "base_uri": "https://localhost:8080/",
     "height": 665
    },
    "id": "yeVNApNh7e8T",
    "outputId": "7f2012f6-7a66-4ea7-a50d-e258bd3df151"
   },
   "outputs": [
    {
     "name": "stderr",
     "output_type": "stream",
     "text": [
      "D:\\Anaconda\\envs\\min_ds-env\\lib\\site-packages\\seaborn\\distributions.py:2557: FutureWarning: `distplot` is a deprecated function and will be removed in a future version. Please adapt your code to use either `displot` (a figure-level function with similar flexibility) or `histplot` (an axes-level function for histograms).\n",
      "  warnings.warn(msg, FutureWarning)\n"
     ]
    },
    {
     "data": {
      "image/png": "[encoded data removed]",
      "text/plain": [
       "<Figure size 1440x720 with 1 Axes>"
      ]
     },
     "metadata": {},
     "output_type": "display_data"
    }
   ],
   "source": [
    "sns.distplot(users_df['followings_count'])\n",
    "plt.gcf().set_size_inches(20,10)"
   ]
  },
  {
   "cell_type": "markdown",
   "metadata": {
    "id": "_HudOKyn7mq6"
   },
   "source": [
    "Như trong biểu đồ, ta nhận ra được số followings của các user phân bổ từ 0 cho đến hơn 2000 followings/user.\n",
    "Và số lượng reposts trong khoảng 0 đến 1000 chiếm tỷ trọng nhiều nhất"
   ]
  },
  {
   "cell_type": "markdown",
   "metadata": {
    "id": "jMi5ZFp07n_6"
   },
   "source": [
    "##### Số lượng playlist của các user dao động thế nào?"
   ]
  },
  {
   "cell_type": "code",
   "execution_count": 33,
   "metadata": {
    "colab": {
     "base_uri": "https://localhost:8080/",
     "height": 665
    },
    "id": "XfzfyDHR7ssk",
    "outputId": "7f4ef247-c4ae-4623-ba22-6bc3a71070ea"
   },
   "outputs": [
    {
     "name": "stderr",
     "output_type": "stream",
     "text": [
      "D:\\Anaconda\\envs\\min_ds-env\\lib\\site-packages\\seaborn\\distributions.py:2557: FutureWarning: `distplot` is a deprecated function and will be removed in a future version. Please adapt your code to use either `displot` (a figure-level function with similar flexibility) or `histplot` (an axes-level function for histograms).\n",
      "  warnings.warn(msg, FutureWarning)\n"
     ]
    },
    {
     "data": {
      "image/png": "[encoded data removed]",
      "text/plain": [
       "<Figure size 1440x720 with 1 Axes>"
      ]
     },
     "metadata": {},
     "output_type": "display_data"
    }
   ],
   "source": [
    "sns.distplot(users_df['playlist_count'])\n",
    "plt.gcf().set_size_inches(20,10)"
   ]
  },
  {
   "cell_type": "markdown",
   "metadata": {
    "id": "DJ-e9Ym47vpi"
   },
   "source": [
    "Đại đa số user tạo rất ít playlist. Một số nhỏ tạo rất nhiều playlist, có thể lên tới 4000, những user này có thể là các nhạc sĩ, ca sĩ, nhà sản xuất có nhiều playlist để công bố."
   ]
  },
  {
   "cell_type": "markdown",
   "metadata": {
    "id": "tgoBEwDI6i08"
   },
   "source": [
    "##### Số lượng reposts của các track phân bổ như thế nào?"
   ]
  },
  {
   "cell_type": "code",
   "execution_count": 34,
   "metadata": {
    "colab": {
     "base_uri": "https://localhost:8080/",
     "height": 663
    },
    "id": "8UoFdMcW6mTd",
    "outputId": "efbdb269-5e1d-4e59-b8ad-08e800274a35"
   },
   "outputs": [
    {
     "name": "stderr",
     "output_type": "stream",
     "text": [
      "D:\\Anaconda\\envs\\min_ds-env\\lib\\site-packages\\seaborn\\distributions.py:2557: FutureWarning: `distplot` is a deprecated function and will be removed in a future version. Please adapt your code to use either `displot` (a figure-level function with similar flexibility) or `histplot` (an axes-level function for histograms).\n",
      "  warnings.warn(msg, FutureWarning)\n"
     ]
    },
    {
     "data": {
      "image/png": "[encoded data removed]",
      "text/plain": [
       "<Figure size 1440x720 with 1 Axes>"
      ]
     },
     "metadata": {},
     "output_type": "display_data"
    }
   ],
   "source": [
    "sns.distplot(tracks_df['reposts_count'])\n",
    "plt.gcf().set_size_inches(20,10)"
   ]
  },
  {
   "cell_type": "markdown",
   "metadata": {
    "id": "2v4IL3Mw7N6R"
   },
   "source": [
    "Như trong biểu đồ, ta nhận ra được số reposts của các track phân bổ từ 0 cho đến gần 120000 reposts/track.\n",
    "Và số lượng reposts trong khoảng 0 đến 20000 chiếm tỷ trọng nhiều nhất"
   ]
  },
  {
   "cell_type": "markdown",
   "metadata": {
    "id": "kEMYVkDYsyJX"
   },
   "source": [
    "## 2. Trực quan hóa các tương quan đa biến"
   ]
  },
  {
   "cell_type": "markdown",
   "metadata": {
    "id": "YqVhToZv-_X6"
   },
   "source": [
    "##### Giữa số lượt like, repost và số track của 1 playlist có mối liên hệ nào hay không?"
   ]
  },
  {
   "cell_type": "code",
   "execution_count": null,
   "metadata": {
    "colab": {
     "base_uri": "https://localhost:8080/",
     "height": 666
    },
    "id": "kgeLszfz_AgE",
    "outputId": "063a7f88-a368-43ef-a136-17f2f4204328"
   },
   "outputs": [
    {
     "name": "stdout",
     "output_type": "stream",
     "text": [
      "     track_count  likes_count  reposts_count\n",
      "0             89       385941          21493\n",
      "1            156        93105           2899\n",
      "2            260           51              2\n",
      "3            265        64660           2970\n",
      "4            260           76              2\n",
      "..           ...          ...            ...\n",
      "995           31            0              0\n",
      "996          299            1              0\n",
      "997           92            2              0\n",
      "998           65            1              0\n",
      "999           89            1              0\n",
      "\n",
      "[1000 rows x 3 columns]\n"
     ]
    }
   ],
   "source": [
    "df = playlists_df[['track_count', 'likes_count', 'reposts_count']].copy()\n",
    "sns.pairplot(df, kind='scatter')\n",
    "plt.gcf().set_size_inches(20,10)"
   ]
  },
  {
   "cell_type": "markdown",
   "metadata": {
    "id": "YhFQIKKx_O58"
   },
   "source": [
    "Ta có thể thấy, giữa track_count và likes_count hầu như không có quy luật nào nên 2 biến này không có mối liên hệ với nhau, tức là việc 1 playlist có nhiều track hay không không ảnh hưởng đến số lượt like của playlist đó.\n",
    "\n",
    "Giữa likes_count và reposts_count dường như có một mối liên hệ với nhau, cụ thể là likes_count càng nhiều thì reposts_count cũng càng nhiều, có nghĩa là nếu số lượt repost của một playlist nhiều thì số lượt like của playlist đó cũng có thể nhiều hơn. Nguyên nhân của hiện tượng này liên quan đến sở thích của người dùng, khi một người thích một playlist, họ có thể like playlist đó và repost nó nhiều lần, vì thế sẽ có nhiều người biết đến playlist đó hơn và số lượt like và repost cũng có thể tăng lên.\n",
    "\n",
    "Giữa track_count và reposts_count cũng không tồn tại quy luật nào, đồng nghĩa với việc một playlist có nhiều hay ít track cũng không ảnh hưởng đến số lượt repost của playlist đó.\n",
    "\n",
    "Từ những quan sát trên, ta có thể thấy được chất lượng quan trọng hơn số lượng, để có được lượt like và repost cao ta không nên đi theo xu hướng tạo ra nhiều track không đạt chất lượng, không thu hút người nghe mà thay vào đó nên tập trung cải thiện chất lượng của từng track."
   ]
  },
  {
   "cell_type": "markdown",
   "metadata": {
    "id": "mi_4YQE0xs9Q"
   },
   "source": [
    "##### Những user có nhiều playlist thì sẽ có nhiều lượt repost ?"
   ]
  },
  {
   "cell_type": "code",
   "execution_count": null,
   "metadata": {
    "colab": {
     "base_uri": "https://localhost:8080/",
     "height": 626
    },
    "id": "1YozS8N4xt8t",
    "outputId": "81cc197f-bf22-4a4e-86ab-b7351adfc143"
   },
   "outputs": [],
   "source": [
    "plt.style.use('ggplot')\n",
    "plt.scatter(x=playlists_df['reposts_count'],\n",
    "              y=users_df['playlist_count'])\n",
    "plt.gcf().set_size_inches(20,10)\n",
    "plt.xlabel('reposts_count')\n",
    "plt.ylabel('playlist_count')"
   ]
  },
  {
   "cell_type": "markdown",
   "metadata": {
    "id": "ssH9d7JO5jm4"
   },
   "source": [
    "Dữ liệu cho thấy không phải cứ nhiều playlist là sẽ sở hữu nhiều lượt repost\n",
    "\n",
    "Nguyên nhân : \n",
    "\n",
    "- Những người dùng thông thường sẽ tạo 1 playlist và lưu lại những tracks yêu thích ,và những người này ít được biết đến nên số lượt repost sẽ thấp\n",
    "\n",
    "- Nếu những người nổi tiếng (như tác giả ),chỉ cần vài chục playlist là có thể sở hữu được những lượt repost cao"
   ]
  },
  {
   "cell_type": "markdown",
   "metadata": {
    "id": "1iqopBEGsD-h"
   },
   "source": [
    "##### Mức độ tương tác của các users như thế nào ?\n",
    "(tương quan về số lượng like của user cho playlist hoặc track của user khác và lượt follow của user cho user khác)"
   ]
  },
  {
   "cell_type": "code",
   "execution_count": null,
   "metadata": {
    "colab": {
     "base_uri": "https://localhost:8080/",
     "height": 641
    },
    "id": "U5wYhxykrfNx",
    "outputId": "e933879a-da0c-4e75-c084-4c141d2973b6"
   },
   "outputs": [],
   "source": [
    "sns.jointplot(x=users_df['followings_count'],\n",
    "              y=users_df['likes_count'],\n",
    "              kind='reg')\n",
    "plt.gcf().set_size_inches(20,10)"
   ]
  },
  {
   "cell_type": "markdown",
   "metadata": {
    "id": "JM-u-09_uSHv"
   },
   "source": [
    "Từ đồ thị cho thấy đa số user sẽ tương tác like track,playlist nhiều hơn là follow người khác\n",
    "Nguyên nhân:\n",
    "\n",
    "- Mọi người đều vào web để nghe nhạc và những track,playlist nào ấn tượng thì sẽ được like để thêm vào danh sách yêu thích cho lần sau có thể nghe lại dễ dàng\n",
    "- Nếu chỉ follow tác giả của track,playlist này thì khi muốn nghe lại bài hát yêu thích sẽ khó khăn vì 1 số user  có rất nhiều track,playlist"
   ]
  },
  {
   "cell_type": "markdown",
   "metadata": {
    "id": "491bwS1b9fa9"
   },
   "source": [
    "##### Số lượt follow của một user và số người follow user đó phân bố như thế nào?"
   ]
  },
  {
   "cell_type": "code",
   "execution_count": null,
   "metadata": {
    "colab": {
     "base_uri": "https://localhost:8080/",
     "height": 699
    },
    "id": "_omZN_CYtSLW",
    "outputId": "bbce8c2a-4560-49ee-805e-dac082b338da"
   },
   "outputs": [],
   "source": [
    "sns.kdeplot(users_df['followers_count'],\n",
    "            users_df['followings_count'],\n",
    "            color='r',\n",
    "            shade=True,\n",
    "            shade_lowest=False)\n",
    "plt.gcf().set_size_inches(20,10)"
   ]
  },
  {
   "cell_type": "markdown",
   "metadata": {
    "id": "Evx0v61s91n6"
   },
   "source": [
    "Ta có thể thấy rằng số lượt follow và số người follow phân bố không đồng đều với nhau và cả 2 đều tập trung chủ yếu ở khoảng từ 0 đến vài trăm.\n",
    "\n",
    "Số lượng following có sự biến đổi tần số tương đối chậm, đường cong KDE của followings_count không quá dốc và hầu hết mọi người đều có số lượt following < 1200.\n",
    "\n",
    "Số lượng followers có sự phân bố hầu hết ở khoảng <12500 followers, những user có số lượt follow trong khoảng này thường là người dùng thông thường, không hoạt động hoặc hoạt động ít trong lĩnh vực âm nhạc. Chỉ có một số trường hợp hiếm có số lượt followers rất cao, thường sẽ là những ngôi sao, những người nổi tiếng. "
   ]
  },
  {
   "cell_type": "markdown",
   "metadata": {
    "id": "bxMgvi0w-ECR"
   },
   "source": [
    "##### Việc một track có thể download hay không có ảnh hưởng đến số lượt repost và playback của track đó hay không?"
   ]
  },
  {
   "cell_type": "code",
   "execution_count": null,
   "metadata": {
    "id": "s1LEfRa6-E6U"
   },
   "outputs": [],
   "source": [
    "downloadable=tracks_df[['reposts_count', 'playback_count']].loc[tracks_df['downloadable']==1].dropna().drop_duplicates()\n",
    "undownloadable=tracks_df[['reposts_count', 'playback_count']].loc[tracks_df['downloadable']==0].dropna().drop_duplicates()"
   ]
  },
  {
   "cell_type": "code",
   "execution_count": null,
   "metadata": {
    "colab": {
     "base_uri": "https://localhost:8080/",
     "height": 710
    },
    "id": "ein5L34w-eNR",
    "outputId": "f1d8740d-e963-414c-9414-81d42b638086"
   },
   "outputs": [],
   "source": [
    "sns.kdeplot(downloadable['reposts_count'],\n",
    "            downloadable['playback_count'],\n",
    "            color='b',\n",
    "            shade=True,\n",
    "            shade_lowest=False)\n",
    "plt.gcf().set_size_inches(20,10)"
   ]
  },
  {
   "cell_type": "code",
   "execution_count": null,
   "metadata": {
    "colab": {
     "base_uri": "https://localhost:8080/",
     "height": 710
    },
    "id": "qZ5kWbJE-kB4",
    "outputId": "0a6f1d2f-b09c-4956-b665-31ce14dfb456"
   },
   "outputs": [],
   "source": [
    "sns.kdeplot(undownloadable['reposts_count'],\n",
    "            undownloadable['playback_count'],\n",
    "            color='b',\n",
    "            shade=True,\n",
    "            shade_lowest=False)\n",
    "plt.gcf().set_size_inches(20,10)"
   ]
  },
  {
   "cell_type": "markdown",
   "metadata": {
    "id": "BM7jZOMX-zS6"
   },
   "source": [
    "Về playback_count: Ta có thể thấy được rằng ở các track cho phép download, số lượt playback_count tập trung chủ yếu > 0.0x1e8 lần và có xu hướng tập trung lên trên hơn so với các track không cho phép download. Nên về mặt tổng quát thì các track cho phép download sẽ có tỉ lệ được playback cao hơn các track không cho phép download.\n",
    "\n",
    "Về reposts_count: cả 2 loại track đều tập trung đông nhất ở ~0 lượt reposts. Phân phối của reposts_count ở undownloadable track có độ tập trung cao hơn so với reposts_count ở downloadable track. Vì thế có thể nói rằng tỉ lệ được repost của downloadable track cao hơn so với undownloadable track."
   ]
  }
 ],
 "metadata": {
  "colab": {
   "collapsed_sections": [],
   "name": "nmkhdl_project2.ipynb",
   "provenance": []
  },
  "kernelspec": {
   "display_name": "Python 3 (ipykernel)",
   "language": "python",
   "name": "python3"
  },
  "language_info": {
   "codemirror_mode": {
    "name": "ipython",
    "version": 3
   },
   "file_extension": ".py",
   "mimetype": "text/x-python",
   "name": "python",
   "nbconvert_exporter": "python",
   "pygments_lexer": "ipython3",
   "version": "3.8.8"
  }
 },
 "nbformat": 4,
 "nbformat_minor": 1
}
